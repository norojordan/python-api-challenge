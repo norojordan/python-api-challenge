{
 "cells": [
  {
   "cell_type": "markdown",
   "metadata": {},
   "source": [
    "# WeatherPy\n",
    "----\n",
    "\n",
    "#### Note\n",
    "* Instructions have been included for each segment. You do not have to follow them exactly, but they are included to help you think through the steps."
   ]
  },
  {
   "cell_type": "code",
   "execution_count": 1,
   "metadata": {
    "scrolled": true
   },
   "outputs": [],
   "source": [
    "# Dependencies and Setup\n",
    "import matplotlib.pyplot as plt\n",
    "import pandas as pd\n",
    "import numpy as np\n",
    "import requests\n",
    "import time\n",
    "from scipy.stats import linregress\n",
    "\n",
    "# Import API key\n",
    "\n",
    "from api_keys import api_key\n",
    "\n",
    "# Incorporated citipy to determine city based on latitude and longitude (Python library)\n",
    "from citipy import citipy\n",
    "\n",
    "# Output File (CSV)\n",
    "output_data_file = \"output_data/cities.csv\"\n",
    "\n",
    "# Range of latitudes and longitudes\n",
    "lat_range = (-90, 90)\n",
    "lng_range = (-180, 180)"
   ]
  },
  {
   "cell_type": "markdown",
   "metadata": {},
   "source": [
    "## Generate Cities List"
   ]
  },
  {
   "cell_type": "code",
   "execution_count": 2,
   "metadata": {},
   "outputs": [],
   "source": [
    "#pip install citipy"
   ]
  },
  {
   "cell_type": "code",
   "execution_count": 3,
   "metadata": {},
   "outputs": [
    {
     "data": {
      "text/plain": [
       "619"
      ]
     },
     "execution_count": 3,
     "metadata": {},
     "output_type": "execute_result"
    }
   ],
   "source": [
    "# List for holding lat_lngs and cities\n",
    "lat_lngs = []\n",
    "cities = []\n",
    "\n",
    "# Create a set of random lat and lng combinations\n",
    "lats = np.random.uniform(lat_range[0], lat_range[1], size=1500)\n",
    "lngs = np.random.uniform(lng_range[0], lng_range[1], size=1500)\n",
    "lat_lngs = zip(lats, lngs)\n",
    "\n",
    "# Identify nearest city for each lat, lng combination\n",
    "for lat_lng in lat_lngs:\n",
    "    city = citipy.nearest_city(lat_lng[0], lat_lng[1]).city_name\n",
    "    \n",
    "    # If the city is unique, then add it to a our cities list\n",
    "    if city not in cities:\n",
    "        cities.append(city)\n",
    "\n",
    "# Print the city count to confirm sufficient count\n",
    "len(cities)"
   ]
  },
  {
   "cell_type": "markdown",
   "metadata": {},
   "source": [
    "### Perform API Calls\n",
    "* Perform a weather check on each city using a series of successive API calls.\n",
    "* Include a print log of each city as it'sbeing processed (with the city number and city name).\n",
    "\n",
    "> **HINT:** The OpenWeatherMap API only allows 60 calls per minute under their free plan. Try using `time.sleep(60)` after each set of 50 cities to avoid API errors due to large calls."
   ]
  },
  {
   "cell_type": "code",
   "execution_count": 4,
   "metadata": {},
   "outputs": [],
   "source": [
    "# Save config information.\n",
    "url = \"http://api.openweathermap.org/data/2.5/weather?\"\n",
    "units = \"imperial\"\n",
    "\n",
    "# Build partial query URL\n",
    "query_url = f\"{url}appid={api_key}&units={units}&q=\""
   ]
  },
  {
   "cell_type": "code",
   "execution_count": 5,
   "metadata": {},
   "outputs": [
    {
     "name": "stdout",
     "output_type": "stream",
     "text": [
      "The weather API responded with: {'coord': {'lon': 103.1635, 'lat': 23.306}, 'weather': [{'id': 803, 'main': 'Clouds', 'description': 'broken clouds', 'icon': '04n'}], 'base': 'stations', 'main': {'temp': 39.58, 'feels_like': 36.27, 'temp_min': 39.58, 'temp_max': 39.58, 'pressure': 1014, 'humidity': 96, 'sea_level': 1014, 'grnd_level': 788}, 'visibility': 10000, 'wind': {'speed': 4.63, 'deg': 145, 'gust': 6.44}, 'clouds': {'all': 72}, 'dt': 1643564794, 'sys': {'country': 'CN', 'sunrise': 1643586480, 'sunset': 1643626398}, 'timezone': 28800, 'id': 1810240, 'name': 'Gejiu', 'cod': 200}.\n"
     ]
    }
   ],
   "source": [
    "# Get weather data and check out the necessry keywords for the queries\n",
    "response = requests.get(query_url + city).json()\n",
    "\n",
    "print(f\"The weather API responded with: {response}.\")"
   ]
  },
  {
   "cell_type": "code",
   "execution_count": 6,
   "metadata": {
    "scrolled": true
   },
   "outputs": [
    {
     "name": "stdout",
     "output_type": "stream",
     "text": [
      "Processing city: ushuaia\n",
      "Processing city: puerto ayora\n",
      "Processing city: bluff\n",
      "Processing city: ahuimanu\n",
      "Processing city: ahipara\n",
      "Processing city: hermanus\n",
      "Processing city: souillac\n",
      "Processing city: hilo\n",
      "Processing city: namibe\n",
      "Processing city: carnarvon\n",
      "Processing city: punta arenas\n",
      "Processing city: kirakira\n",
      "Processing city: husavik\n",
      "Processing city: kapaa\n",
      "Processing city: lompoc\n",
      "Processing city: bredasdorp\n",
      "City NOT found. Skip nizhneyansk\n",
      "Processing city: albany\n",
      "Processing city: vaini\n",
      "Processing city: saskylakh\n",
      "Processing city: faya\n",
      "City NOT found. Skip barentsburg\n",
      "Processing city: yumen\n",
      "Processing city: hervey bay\n",
      "Processing city: kudahuvadhoo\n",
      "Processing city: kodiak\n",
      "Processing city: tutoia\n",
      "Processing city: chicama\n",
      "Processing city: khatanga\n",
      "Processing city: aklavik\n",
      "Processing city: gorin\n",
      "Processing city: guerrero negro\n",
      "Processing city: rikitea\n",
      "Processing city: cape town\n",
      "City NOT found. Skip yirol\n",
      "Processing city: san cristobal\n",
      "Processing city: lavrentiya\n",
      "Processing city: carutapera\n",
      "Processing city: bacuyangan\n",
      "Processing city: east london\n",
      "Processing city: anadyr\n",
      "Processing city: novosergiyevka\n",
      "Processing city: constitucion\n",
      "Processing city: busselton\n",
      "Processing city: sioux lookout\n",
      "City NOT found. Skip taolanaro\n",
      "Processing city: saldanha\n",
      "Processing city: salcedo\n",
      "Processing city: new norfolk\n",
      "Processing city: boyolangu\n",
      "Processing city: oranjemund\n",
      "City NOT found. Skip belushya guba\n",
      "Processing city: kavieng\n",
      "Processing city: hithadhoo\n",
      "Processing city: sechura\n",
      "Processing city: vila velha\n",
      "Processing city: jamestown\n",
      "Processing city: arraial do cabo\n",
      "Processing city: comodoro rivadavia\n",
      "Processing city: zabid\n",
      "Processing city: chuy\n",
      "City NOT found. Skip higuey\n",
      "City NOT found. Skip sentyabrskiy\n",
      "Processing city: bengkulu\n",
      "Processing city: mount gambier\n",
      "Processing city: kjollefjord\n",
      "Processing city: hatillo\n",
      "Processing city: lagoa\n",
      "City NOT found. Skip palabuhanratu\n",
      "Processing city: segezha\n",
      "Processing city: mount isa\n",
      "Processing city: bandarbeyla\n",
      "Processing city: karratha\n",
      "City NOT found. Skip zarakes\n",
      "Processing city: leningradskiy\n",
      "Processing city: acari\n",
      "Processing city: moanda\n",
      "Processing city: esperance\n",
      "Processing city: avarua\n",
      "Processing city: saint-philippe\n",
      "Processing city: port alfred\n",
      "Processing city: sambava\n",
      "Processing city: manoel urbano\n",
      "Processing city: hasaki\n",
      "Processing city: kahului\n",
      "Processing city: chokurdakh\n",
      "Processing city: hobart\n",
      "Processing city: atuona\n",
      "Processing city: rabo de peixe\n",
      "Processing city: mar del plata\n",
      "Processing city: alice springs\n",
      "City NOT found. Skip illoqqortoormiut\n",
      "Processing city: butaritari\n",
      "Processing city: naze\n",
      "Processing city: datong\n",
      "Processing city: batagay\n",
      "City NOT found. Skip taburi\n",
      "Processing city: broome\n",
      "City NOT found. Skip rungata\n",
      "Processing city: povoa de lanhoso\n",
      "Processing city: cabo san lucas\n",
      "Processing city: brookings\n",
      "City NOT found. Skip galiwinku\n",
      "Processing city: hofn\n",
      "Processing city: lebu\n",
      "Processing city: vestmanna\n",
      "Processing city: mataura\n",
      "Processing city: kavaratti\n",
      "Processing city: iqaluit\n",
      "Processing city: yellowknife\n",
      "Processing city: frontera\n",
      "Processing city: opuwo\n",
      "Processing city: port blair\n",
      "Processing city: cloquet\n",
      "Processing city: suntar\n",
      "Processing city: kungurtug\n",
      "Processing city: yuanping\n",
      "Processing city: anajatuba\n",
      "Processing city: baykit\n",
      "Processing city: trat\n",
      "Processing city: chebarkul\n",
      "Processing city: chulym\n",
      "Processing city: tilichiki\n",
      "Processing city: heide\n",
      "Processing city: norman wells\n",
      "Processing city: karakol\n",
      "Processing city: lucea\n",
      "Processing city: morondava\n",
      "Processing city: teknaf\n",
      "Processing city: los llanos de aridane\n",
      "Processing city: san juan sacatepequez\n",
      "Processing city: thompson\n",
      "Processing city: dikson\n",
      "City NOT found. Skip tsihombe\n",
      "Processing city: meadow lake\n",
      "City NOT found. Skip cam pha\n",
      "Processing city: saint anthony\n",
      "Processing city: thinadhoo\n",
      "Processing city: nanortalik\n",
      "City NOT found. Skip halalo\n",
      "Processing city: axim\n",
      "Processing city: bage\n",
      "Processing city: port hardy\n",
      "Processing city: pipri\n",
      "Processing city: ratnagiri\n",
      "Processing city: hobyo\n",
      "Processing city: le havre\n",
      "Processing city: la rioja\n",
      "Processing city: diamantino\n",
      "Processing city: samarai\n",
      "Processing city: barrow\n",
      "City NOT found. Skip dianopolis\n",
      "Processing city: emba\n",
      "Processing city: nishihara\n",
      "City NOT found. Skip amderma\n",
      "Processing city: upernavik\n",
      "City NOT found. Skip ye\n",
      "Processing city: jiwani\n",
      "Processing city: khorixas\n",
      "Processing city: matara\n",
      "Processing city: bethel\n",
      "Processing city: kruisfontein\n",
      "Processing city: dingle\n",
      "Processing city: westerland\n",
      "Processing city: fortuna\n",
      "Processing city: yangambi\n",
      "Processing city: morki\n",
      "Processing city: ambanja\n",
      "Processing city: altamont\n",
      "Processing city: merauke\n",
      "Processing city: hauterive\n",
      "City NOT found. Skip grand river south east\n",
      "Processing city: longyearbyen\n",
      "Processing city: kaseda\n",
      "Processing city: udachnyy\n",
      "Processing city: fort nelson\n",
      "Processing city: chardara\n",
      "Processing city: castro\n",
      "Processing city: pontes e lacerda\n",
      "City NOT found. Skip lolua\n",
      "Processing city: sita buzaului\n",
      "Processing city: elban\n",
      "Processing city: yerbogachen\n",
      "Processing city: arlit\n",
      "Processing city: iroquois falls\n",
      "Processing city: hanyang\n",
      "Processing city: geraldton\n",
      "Processing city: cibitung\n",
      "Processing city: barranca\n",
      "Processing city: vardo\n",
      "Processing city: akyab\n",
      "Processing city: atar\n",
      "Processing city: tiksi\n",
      "Processing city: bereda\n",
      "City NOT found. Skip umm jarr\n",
      "Processing city: nemuro\n",
      "Processing city: mangan\n",
      "City NOT found. Skip samalaeulu\n",
      "Processing city: qaanaaq\n",
      "Processing city: alcaniz\n",
      "Processing city: pisco\n",
      "Processing city: baijiantan\n",
      "Processing city: kysyl-syr\n",
      "Processing city: contai\n",
      "Processing city: avera\n",
      "Processing city: cherskiy\n",
      "Processing city: byron bay\n",
      "Processing city: champerico\n",
      "Processing city: ancud\n",
      "Processing city: mahebourg\n",
      "Processing city: san patricio\n",
      "Processing city: tura\n",
      "City NOT found. Skip mrirt\n",
      "Processing city: genc\n",
      "Processing city: elk city\n",
      "Processing city: klaksvik\n",
      "Processing city: najran\n",
      "Processing city: tiruvallur\n",
      "Processing city: sawakin\n",
      "Processing city: nabire\n",
      "Processing city: tuktoyaktuk\n",
      "Processing city: orleans\n",
      "Processing city: gwembe\n",
      "Processing city: caravelas\n",
      "Processing city: harper\n",
      "Processing city: pangai\n",
      "Processing city: san francisco\n",
      "Processing city: laguna\n",
      "Processing city: berlevag\n",
      "Processing city: halifax\n",
      "Processing city: boyuibe\n",
      "Processing city: georgetown\n",
      "Processing city: trinidad\n",
      "Processing city: villa carlos paz\n",
      "Processing city: mujiayingzi\n",
      "Processing city: merke\n",
      "Processing city: poum\n",
      "Processing city: zaranj\n",
      "Processing city: sitka\n",
      "Processing city: port keats\n",
      "Processing city: pathein\n",
      "Processing city: port lincoln\n",
      "Processing city: hornepayne\n",
      "Processing city: alofi\n",
      "Processing city: vestmannaeyjar\n",
      "Processing city: ostrovnoy\n",
      "Processing city: abha\n",
      "Processing city: mazyr\n",
      "Processing city: coquimbo\n",
      "Processing city: sucre\n",
      "Processing city: margate\n",
      "Processing city: rapid valley\n",
      "Processing city: nizwa\n",
      "Processing city: ponta do sol\n",
      "Processing city: khani\n",
      "Processing city: saint george\n",
      "Processing city: cap malheureux\n",
      "Processing city: nikolskoye\n",
      "Processing city: mahibadhoo\n",
      "Processing city: grand-santi\n",
      "Processing city: vao\n",
      "Processing city: bauchi\n",
      "Processing city: tual\n",
      "Processing city: victoria\n",
      "Processing city: bam\n",
      "Processing city: port elizabeth\n",
      "Processing city: yar-sale\n",
      "Processing city: petropavlovsk-kamchatskiy\n",
      "Processing city: pontianak\n",
      "City NOT found. Skip tabiauea\n",
      "Processing city: tuatapere\n",
      "Processing city: kodinsk\n",
      "Processing city: ozernovskiy\n",
      "Processing city: tucurui\n",
      "Processing city: santiago del estero\n",
      "Processing city: otjiwarongo\n",
      "Processing city: korla\n",
      "Processing city: taoudenni\n",
      "Processing city: oussouye\n",
      "Processing city: sarkikaraagac\n",
      "Processing city: camana\n",
      "Processing city: norwich\n",
      "Processing city: griffith\n",
      "Processing city: bouar\n",
      "Processing city: atambua\n",
      "Processing city: fjerritslev\n",
      "Processing city: the valley\n",
      "Processing city: kansanshi\n",
      "Processing city: sao filipe\n",
      "Processing city: haines junction\n",
      "Processing city: ossora\n",
      "Processing city: mehamn\n",
      "Processing city: la orilla\n",
      "City NOT found. Skip makung\n",
      "City NOT found. Skip doctor pedro p. pena\n",
      "Processing city: egvekinot\n",
      "Processing city: komsomolskiy\n",
      "Processing city: pompeu\n",
      "Processing city: newport\n",
      "Processing city: castanos\n",
      "Processing city: carmo do rio claro\n",
      "Processing city: leh\n",
      "Processing city: labuhan\n",
      "Processing city: volcan\n",
      "Processing city: bonfim\n",
      "Processing city: cururupu\n"
     ]
    },
    {
     "name": "stdout",
     "output_type": "stream",
     "text": [
      "City NOT found. Skip temaraia\n",
      "Processing city: khor\n",
      "Processing city: makakilo city\n",
      "Processing city: airai\n",
      "Processing city: ust-omchug\n",
      "City NOT found. Skip sadowara\n",
      "Processing city: rocha\n",
      "City NOT found. Skip cape elizabeth\n",
      "Processing city: torbay\n",
      "Processing city: setubal\n",
      "Processing city: santa isabel do rio negro\n",
      "Processing city: abbeville\n",
      "Processing city: camarillo\n",
      "Processing city: takoradi\n",
      "Processing city: pasighat\n",
      "Processing city: bambous virieux\n",
      "Processing city: cidreira\n",
      "Processing city: college\n",
      "Processing city: kashi\n",
      "Processing city: brae\n",
      "City NOT found. Skip attawapiskat\n",
      "Processing city: isangel\n",
      "Processing city: malaba\n",
      "Processing city: hortolandia\n",
      "Processing city: limoges\n",
      "Processing city: sabla\n",
      "Processing city: meulaboh\n",
      "Processing city: portland\n",
      "City NOT found. Skip sinkat\n",
      "Processing city: taxco\n",
      "Processing city: cockburn town\n",
      "Processing city: pevek\n",
      "Processing city: illela\n",
      "Processing city: shache\n",
      "Processing city: kamenka\n",
      "Processing city: teguldet\n",
      "Processing city: basco\n",
      "Processing city: clyde river\n",
      "Processing city: sabang\n",
      "Processing city: clarence town\n",
      "Processing city: vila franca do campo\n",
      "Processing city: prince rupert\n",
      "Processing city: wanning\n",
      "Processing city: veraval\n",
      "Processing city: colchester\n",
      "Processing city: faanui\n",
      "Processing city: kaitangata\n",
      "Processing city: la macarena\n",
      "Processing city: yanam\n",
      "Processing city: choya\n",
      "Processing city: houma\n",
      "Processing city: luau\n",
      "Processing city: urdoma\n",
      "Processing city: luderitz\n",
      "Processing city: ixtapa\n",
      "Processing city: pitimbu\n",
      "Processing city: general roca\n",
      "Processing city: ust-kuyga\n",
      "City NOT found. Skip vaitupu\n",
      "Processing city: miles city\n",
      "Processing city: rostovka\n",
      "Processing city: havelock\n",
      "City NOT found. Skip manzil tamim\n",
      "Processing city: hambantota\n",
      "Processing city: leshukonskoye\n",
      "Processing city: panjab\n",
      "Processing city: kuching\n",
      "Processing city: bambanglipuro\n",
      "Processing city: padang\n",
      "Processing city: vanimo\n",
      "Processing city: waingapu\n",
      "Processing city: pyu\n",
      "City NOT found. Skip ust-kamchatsk\n",
      "Processing city: ishigaki\n",
      "Processing city: puro\n",
      "City NOT found. Skip samusu\n",
      "Processing city: quthing\n",
      "Processing city: grimshaw\n",
      "Processing city: tasiilaq\n",
      "Processing city: verkhnyaya inta\n",
      "Processing city: buraydah\n",
      "Processing city: ketchikan\n",
      "Processing city: binzhou\n",
      "Processing city: sur\n",
      "Processing city: killarney\n",
      "Processing city: praia\n",
      "Processing city: kutulik\n",
      "Processing city: ribeira grande\n",
      "City NOT found. Skip longlac\n",
      "Processing city: ankara\n",
      "Processing city: agaro\n",
      "Processing city: lorengau\n",
      "Processing city: mayo\n",
      "Processing city: esso\n",
      "Processing city: evensk\n",
      "Processing city: walvis bay\n",
      "Processing city: conceicao do araguaia\n",
      "Processing city: marsh harbour\n",
      "Processing city: marawi\n",
      "Processing city: provideniya\n",
      "Processing city: san vicente\n",
      "Processing city: inzer\n",
      "Processing city: ridgetown\n",
      "City NOT found. Skip dien bien\n",
      "Processing city: nhulunbuy\n",
      "Processing city: tromso\n",
      "City NOT found. Skip one hundred mile house\n",
      "Processing city: sobolevo\n",
      "Processing city: gandajika\n",
      "Processing city: timra\n",
      "Processing city: la plaine\n",
      "Processing city: quatre cocos\n",
      "City NOT found. Skip bossembele\n",
      "Processing city: manga\n",
      "Processing city: belyy yar\n",
      "Processing city: sainte-suzanne\n",
      "Processing city: elizabeth city\n",
      "City NOT found. Skip glubokoe\n",
      "Processing city: nisia floresta\n",
      "Processing city: venice\n",
      "Processing city: zaysan\n",
      "City NOT found. Skip tumannyy\n",
      "Processing city: morehead\n",
      "Processing city: awjilah\n",
      "Processing city: kuznechnoye\n",
      "Processing city: krasnovishersk\n",
      "Processing city: havre-saint-pierre\n",
      "Processing city: zhuhai\n",
      "Processing city: wattegama\n",
      "Processing city: iskateley\n",
      "Processing city: springbok\n",
      "Processing city: gravdal\n",
      "Processing city: ilam\n",
      "Processing city: boende\n",
      "Processing city: tiznit\n",
      "Processing city: guanare\n",
      "Processing city: vilyuysk\n",
      "Processing city: fairbanks\n",
      "Processing city: lumsden\n",
      "Processing city: viedma\n",
      "Processing city: partizanskoye\n",
      "Processing city: arkhangelskoye\n",
      "Processing city: vila\n",
      "City NOT found. Skip malwan\n",
      "Processing city: centralia\n",
      "Processing city: tagusao\n",
      "Processing city: daru\n",
      "Processing city: balabagan\n",
      "Processing city: maniitsoq\n",
      "Processing city: kropotkin\n",
      "Processing city: lima\n",
      "Processing city: poro\n",
      "Processing city: ipil\n",
      "Processing city: bosaso\n",
      "Processing city: benguela\n",
      "City NOT found. Skip wahran\n",
      "Processing city: mtwara\n",
      "Processing city: jalu\n",
      "Processing city: sorland\n",
      "Processing city: macherla\n",
      "Processing city: severo-kurilsk\n",
      "Processing city: phalodi\n",
      "Processing city: adrar\n",
      "Processing city: sosnovo-ozerskoye\n",
      "Processing city: mount pleasant\n",
      "Processing city: ondjiva\n",
      "Processing city: sao joao da barra\n",
      "Processing city: cabatuan\n",
      "Processing city: grand gaube\n",
      "Processing city: athens\n",
      "City NOT found. Skip mys shmidta\n",
      "Processing city: lata\n",
      "Processing city: cortez\n",
      "Processing city: waipawa\n",
      "Processing city: las palmas\n",
      "Processing city: bemidji\n",
      "Processing city: hamilton\n",
      "City NOT found. Skip saleaula\n",
      "City NOT found. Skip satitoa\n",
      "Processing city: ilulissat\n",
      "Processing city: christchurch\n",
      "Processing city: dong xoai\n",
      "Processing city: bilma\n",
      "Processing city: la asuncion\n",
      "City NOT found. Skip dujuma\n",
      "Processing city: zhigansk\n",
      "Processing city: galesong\n",
      "Processing city: miraflores\n",
      "Processing city: porto novo\n",
      "Processing city: son la\n",
      "City NOT found. Skip sapao\n",
      "Processing city: zyryanka\n",
      "Processing city: bonthe\n",
      "Processing city: bathsheba\n",
      "Processing city: vondrozo\n",
      "Processing city: yelandur\n",
      "Processing city: reconquista\n",
      "Processing city: san carlos\n",
      "Processing city: fare\n",
      "Processing city: tumbagaan\n",
      "Processing city: huangchuan\n",
      "Processing city: sembakung\n",
      "Processing city: tatarskaya pishlya\n",
      "Processing city: touros\n",
      "Processing city: zheleznodorozhnyy\n",
      "Processing city: banjarmasin\n",
      "Processing city: nara\n",
      "Processing city: dunedin\n",
      "Processing city: corn island\n",
      "Processing city: xam nua\n",
      "Processing city: ngunguru\n",
      "Processing city: ust-nera\n",
      "City NOT found. Skip ambodifototra\n",
      "Processing city: baturyn\n",
      "Processing city: mananara\n",
      "Processing city: dauin\n",
      "Processing city: tokur\n",
      "Processing city: okhotsk\n",
      "Processing city: pyay\n",
      "Processing city: alta floresta\n",
      "Processing city: sangar\n",
      "Processing city: bloemfontein\n",
      "Processing city: maragogi\n",
      "Processing city: magway\n",
      "Processing city: zhangye\n",
      "Processing city: werota\n",
      "Processing city: peniche\n",
      "Processing city: poronaysk\n",
      "Processing city: dergachi\n",
      "Processing city: nizhniy baskunchak\n",
      "Processing city: shimoda\n",
      "Processing city: linxia\n",
      "Processing city: valparaiso\n",
      "Processing city: zlitan\n",
      "Processing city: tambopata\n",
      "City NOT found. Skip bandar-e torkaman\n",
      "City NOT found. Skip warqla\n",
      "Processing city: belle fourche\n",
      "Processing city: srednekolymsk\n",
      "Processing city: gisborne\n",
      "Processing city: jijiga\n",
      "Processing city: quzhou\n",
      "Processing city: coihaique\n",
      "Processing city: francavilla al mare\n",
      "Processing city: mareeba\n",
      "Processing city: malanje\n",
      "Processing city: ponta delgada\n",
      "Processing city: purpe\n",
      "City NOT found. Skip alotau\n",
      "City NOT found. Skip kuche\n",
      "Processing city: hinatuan\n",
      "Processing city: usinsk\n",
      "Processing city: payson\n",
      "Processing city: narsaq\n",
      "Processing city: grafton\n",
      "Processing city: roudnice\n",
      "Processing city: wau\n",
      "Processing city: togur\n",
      "Processing city: vostok\n",
      "Processing city: dunmore east\n",
      "Processing city: la palma\n",
      "Processing city: svetlogorsk\n",
      "Processing city: catuday\n",
      "Processing city: san policarpo\n",
      "Processing city: denpasar\n",
      "Processing city: mercedes\n",
      "Processing city: talwandi bhai\n",
      "Processing city: remedios\n",
      "Processing city: qaqortoq\n",
      "Processing city: coahuayana\n",
      "Processing city: ensenada\n",
      "Processing city: bekhtery\n",
      "Processing city: neuquen\n",
      "Processing city: acapulco\n",
      "City NOT found. Skip yanan\n",
      "City NOT found. Skip aflu\n",
      "Processing city: sibiti\n",
      "Processing city: mildura\n",
      "City NOT found. Skip naftah\n",
      "Processing city: saint-paul\n",
      "Processing city: ntchisi\n",
      "Processing city: la ronge\n",
      "City NOT found. Skip ozgon\n",
      "Processing city: canon city\n",
      "Processing city: luganville\n",
      "City NOT found. Skip utiroa\n",
      "Processing city: avondale\n",
      "Processing city: puerto madryn\n",
      "Processing city: ambulu\n",
      "Processing city: mandera\n",
      "Processing city: antofagasta\n",
      "Processing city: cleethorpes\n",
      "Processing city: ravar\n",
      "Processing city: maldonado\n",
      "Processing city: consuegra\n",
      "Processing city: jumla\n",
      "Processing city: codo\n",
      "Processing city: kainantu\n",
      "Processing city: erenhot\n",
      "Processing city: tocache\n",
      "Processing city: bintulu\n",
      "Processing city: hovd\n",
      "Processing city: estelle\n",
      "Processing city: kerema\n",
      "Processing city: mashhad\n",
      "Processing city: razole\n",
      "Processing city: beisfjord\n"
     ]
    },
    {
     "name": "stdout",
     "output_type": "stream",
     "text": [
      "Processing city: tomatlan\n",
      "Processing city: saint-joseph\n",
      "Processing city: mountain home\n",
      "Processing city: alzamay\n",
      "Processing city: olinda\n",
      "Processing city: gejiu\n",
      "Data Retrieval Complete\n"
     ]
    }
   ],
   "source": [
    "# Build a list \n",
    "\n",
    "citylist = []\n",
    "lat = []\n",
    "lon = []\n",
    "temp = []\n",
    "humidity = []\n",
    "clouds = []\n",
    "wind_rate = []\n",
    "country = []\n",
    "date = []\n",
    "\n",
    "count = 0\n",
    "\n",
    "for city in cities:\n",
    "        try:\n",
    "            response = requests.get(query_url + city).json()\n",
    "            lat.append(response['coord']['lat'])\n",
    "            lon.append(response['coord']['lon'])\n",
    "            temp.append(response['main']['temp_max'])\n",
    "            humidity.append(response['main']['humidity'])\n",
    "            clouds.append(response['clouds']['all'])\n",
    "            wind_rate.append(response['wind']['speed'])\n",
    "            country.append(response[\"sys\"][\"country\"])\n",
    "            date.append(response['dt'])\n",
    "            citylist.append(city)\n",
    "            print(f\"Processing city: {city}\")\n",
    "        except:\n",
    "            print(f\"City NOT found. Skip {city}\")\n",
    "        count+=1\n",
    "        \n",
    "        # Add a one second interval between queries to stay within API query limits\n",
    "        time.sleep(1)\n",
    "\n",
    "print(f\"Data Retrieval Complete\")\n",
    "        \n",
    "        \n",
    "    "
   ]
  },
  {
   "cell_type": "markdown",
   "metadata": {},
   "source": [
    "### Convert Raw Data to DataFrame\n",
    "* Export the city data into a .csv.\n",
    "* Display the DataFrame"
   ]
  },
  {
   "cell_type": "code",
   "execution_count": 7,
   "metadata": {},
   "outputs": [
    {
     "data": {
      "text/html": [
       "<div>\n",
       "<style scoped>\n",
       "    .dataframe tbody tr th:only-of-type {\n",
       "        vertical-align: middle;\n",
       "    }\n",
       "\n",
       "    .dataframe tbody tr th {\n",
       "        vertical-align: top;\n",
       "    }\n",
       "\n",
       "    .dataframe thead th {\n",
       "        text-align: right;\n",
       "    }\n",
       "</style>\n",
       "<table border=\"1\" class=\"dataframe\">\n",
       "  <thead>\n",
       "    <tr style=\"text-align: right;\">\n",
       "      <th></th>\n",
       "      <th>City</th>\n",
       "      <th>Country</th>\n",
       "      <th>Max Temp</th>\n",
       "      <th>Humidity</th>\n",
       "      <th>Cloudiness</th>\n",
       "      <th>Wind Speed</th>\n",
       "      <th>Latitude</th>\n",
       "      <th>Longitude</th>\n",
       "      <th>Date</th>\n",
       "    </tr>\n",
       "  </thead>\n",
       "  <tbody>\n",
       "    <tr>\n",
       "      <th>0</th>\n",
       "      <td>ushuaia</td>\n",
       "      <td>AR</td>\n",
       "      <td>47.86</td>\n",
       "      <td>66</td>\n",
       "      <td>75</td>\n",
       "      <td>25.32</td>\n",
       "      <td>-54.8000</td>\n",
       "      <td>-68.3000</td>\n",
       "      <td>1643564796</td>\n",
       "    </tr>\n",
       "    <tr>\n",
       "      <th>1</th>\n",
       "      <td>puerto ayora</td>\n",
       "      <td>EC</td>\n",
       "      <td>82.36</td>\n",
       "      <td>71</td>\n",
       "      <td>100</td>\n",
       "      <td>8.81</td>\n",
       "      <td>-0.7393</td>\n",
       "      <td>-90.3518</td>\n",
       "      <td>1643564797</td>\n",
       "    </tr>\n",
       "    <tr>\n",
       "      <th>2</th>\n",
       "      <td>bluff</td>\n",
       "      <td>NZ</td>\n",
       "      <td>58.80</td>\n",
       "      <td>92</td>\n",
       "      <td>87</td>\n",
       "      <td>3.58</td>\n",
       "      <td>-46.6000</td>\n",
       "      <td>168.3333</td>\n",
       "      <td>1643564798</td>\n",
       "    </tr>\n",
       "    <tr>\n",
       "      <th>3</th>\n",
       "      <td>ahuimanu</td>\n",
       "      <td>US</td>\n",
       "      <td>73.45</td>\n",
       "      <td>71</td>\n",
       "      <td>75</td>\n",
       "      <td>1.01</td>\n",
       "      <td>21.4447</td>\n",
       "      <td>-157.8378</td>\n",
       "      <td>1643564800</td>\n",
       "    </tr>\n",
       "    <tr>\n",
       "      <th>4</th>\n",
       "      <td>ahipara</td>\n",
       "      <td>NZ</td>\n",
       "      <td>60.84</td>\n",
       "      <td>91</td>\n",
       "      <td>100</td>\n",
       "      <td>7.87</td>\n",
       "      <td>-35.1667</td>\n",
       "      <td>173.1667</td>\n",
       "      <td>1643564801</td>\n",
       "    </tr>\n",
       "  </tbody>\n",
       "</table>\n",
       "</div>"
      ],
      "text/plain": [
       "           City Country  Max Temp  Humidity  Cloudiness  Wind Speed  Latitude  \\\n",
       "0       ushuaia      AR     47.86        66          75       25.32  -54.8000   \n",
       "1  puerto ayora      EC     82.36        71         100        8.81   -0.7393   \n",
       "2         bluff      NZ     58.80        92          87        3.58  -46.6000   \n",
       "3      ahuimanu      US     73.45        71          75        1.01   21.4447   \n",
       "4       ahipara      NZ     60.84        91         100        7.87  -35.1667   \n",
       "\n",
       "   Longitude        Date  \n",
       "0   -68.3000  1643564796  \n",
       "1   -90.3518  1643564797  \n",
       "2   168.3333  1643564798  \n",
       "3  -157.8378  1643564800  \n",
       "4   173.1667  1643564801  "
      ]
     },
     "execution_count": 7,
     "metadata": {},
     "output_type": "execute_result"
    }
   ],
   "source": [
    "# Create a data frame from the raw data\n",
    "\n",
    "weather_df = pd.DataFrame({\"City\": citylist,\n",
    "                           \"Country\": country,\n",
    "                           \"Max Temp\": temp,\n",
    "                           \"Humidity\": humidity,\n",
    "                           \"Cloudiness\": clouds,\n",
    "                           \"Wind Speed\":wind_rate,\n",
    "                           \"Latitude\": lat,\n",
    "                           \"Longitude\": lon,\n",
    "                           \"Date\": date\n",
    "                          })\n",
    "\n",
    "weather_df.head()"
   ]
  },
  {
   "cell_type": "code",
   "execution_count": 33,
   "metadata": {},
   "outputs": [],
   "source": [
    "# Export the data to a .csv. Saved twice to get it to the correct folder.\n",
    "\n",
    "weather_df.to_csv('cities.csv', encoding=\"utf-8\",index = False)\n",
    "weather_df.to_csv('../output_data/cities1.csv')\n"
   ]
  },
  {
   "cell_type": "code",
   "execution_count": 10,
   "metadata": {},
   "outputs": [
    {
     "data": {
      "text/html": [
       "<div>\n",
       "<style scoped>\n",
       "    .dataframe tbody tr th:only-of-type {\n",
       "        vertical-align: middle;\n",
       "    }\n",
       "\n",
       "    .dataframe tbody tr th {\n",
       "        vertical-align: top;\n",
       "    }\n",
       "\n",
       "    .dataframe thead th {\n",
       "        text-align: right;\n",
       "    }\n",
       "</style>\n",
       "<table border=\"1\" class=\"dataframe\">\n",
       "  <thead>\n",
       "    <tr style=\"text-align: right;\">\n",
       "      <th></th>\n",
       "      <th>Max Temp</th>\n",
       "      <th>Humidity</th>\n",
       "      <th>Cloudiness</th>\n",
       "      <th>Wind Speed</th>\n",
       "      <th>Latitude</th>\n",
       "      <th>Longitude</th>\n",
       "      <th>Date</th>\n",
       "    </tr>\n",
       "  </thead>\n",
       "  <tbody>\n",
       "    <tr>\n",
       "      <th>count</th>\n",
       "      <td>560.000000</td>\n",
       "      <td>560.000000</td>\n",
       "      <td>560.000000</td>\n",
       "      <td>560.000000</td>\n",
       "      <td>560.000000</td>\n",
       "      <td>560.000000</td>\n",
       "      <td>5.600000e+02</td>\n",
       "    </tr>\n",
       "    <tr>\n",
       "      <th>mean</th>\n",
       "      <td>51.128286</td>\n",
       "      <td>71.176786</td>\n",
       "      <td>60.158929</td>\n",
       "      <td>8.192268</td>\n",
       "      <td>19.771534</td>\n",
       "      <td>20.015755</td>\n",
       "      <td>1.643565e+09</td>\n",
       "    </tr>\n",
       "    <tr>\n",
       "      <th>std</th>\n",
       "      <td>31.943800</td>\n",
       "      <td>22.444425</td>\n",
       "      <td>38.136485</td>\n",
       "      <td>6.409847</td>\n",
       "      <td>32.818111</td>\n",
       "      <td>91.041055</td>\n",
       "      <td>2.443204e+02</td>\n",
       "    </tr>\n",
       "    <tr>\n",
       "      <th>min</th>\n",
       "      <td>-34.730000</td>\n",
       "      <td>8.000000</td>\n",
       "      <td>0.000000</td>\n",
       "      <td>0.000000</td>\n",
       "      <td>-54.800000</td>\n",
       "      <td>-179.166700</td>\n",
       "      <td>1.643564e+09</td>\n",
       "    </tr>\n",
       "    <tr>\n",
       "      <th>25%</th>\n",
       "      <td>30.675000</td>\n",
       "      <td>59.000000</td>\n",
       "      <td>20.000000</td>\n",
       "      <td>3.060000</td>\n",
       "      <td>-8.036200</td>\n",
       "      <td>-63.355575</td>\n",
       "      <td>1.643565e+09</td>\n",
       "    </tr>\n",
       "    <tr>\n",
       "      <th>50%</th>\n",
       "      <td>62.485000</td>\n",
       "      <td>75.000000</td>\n",
       "      <td>75.000000</td>\n",
       "      <td>6.680000</td>\n",
       "      <td>21.108350</td>\n",
       "      <td>26.320650</td>\n",
       "      <td>1.643565e+09</td>\n",
       "    </tr>\n",
       "    <tr>\n",
       "      <th>75%</th>\n",
       "      <td>76.825000</td>\n",
       "      <td>90.000000</td>\n",
       "      <td>99.000000</td>\n",
       "      <td>11.500000</td>\n",
       "      <td>47.721475</td>\n",
       "      <td>100.340125</td>\n",
       "      <td>1.643565e+09</td>\n",
       "    </tr>\n",
       "    <tr>\n",
       "      <th>max</th>\n",
       "      <td>96.980000</td>\n",
       "      <td>100.000000</td>\n",
       "      <td>100.000000</td>\n",
       "      <td>34.520000</td>\n",
       "      <td>78.218600</td>\n",
       "      <td>178.416700</td>\n",
       "      <td>1.643566e+09</td>\n",
       "    </tr>\n",
       "  </tbody>\n",
       "</table>\n",
       "</div>"
      ],
      "text/plain": [
       "         Max Temp    Humidity  Cloudiness  Wind Speed    Latitude   Longitude  \\\n",
       "count  560.000000  560.000000  560.000000  560.000000  560.000000  560.000000   \n",
       "mean    51.128286   71.176786   60.158929    8.192268   19.771534   20.015755   \n",
       "std     31.943800   22.444425   38.136485    6.409847   32.818111   91.041055   \n",
       "min    -34.730000    8.000000    0.000000    0.000000  -54.800000 -179.166700   \n",
       "25%     30.675000   59.000000   20.000000    3.060000   -8.036200  -63.355575   \n",
       "50%     62.485000   75.000000   75.000000    6.680000   21.108350   26.320650   \n",
       "75%     76.825000   90.000000   99.000000   11.500000   47.721475  100.340125   \n",
       "max     96.980000  100.000000  100.000000   34.520000   78.218600  178.416700   \n",
       "\n",
       "               Date  \n",
       "count  5.600000e+02  \n",
       "mean   1.643565e+09  \n",
       "std    2.443204e+02  \n",
       "min    1.643564e+09  \n",
       "25%    1.643565e+09  \n",
       "50%    1.643565e+09  \n",
       "75%    1.643565e+09  \n",
       "max    1.643566e+09  "
      ]
     },
     "execution_count": 10,
     "metadata": {},
     "output_type": "execute_result"
    }
   ],
   "source": [
    "# Check to see if any of the cities has higher than 100% humidity\n",
    "weather_df.describe()\n"
   ]
  },
  {
   "cell_type": "markdown",
   "metadata": {},
   "source": [
    "## Inspect the data and remove the cities where the humidity > 100%.\n",
    "----\n",
    "Skip this step if there are no cities that have humidity > 100%. "
   ]
  },
  {
   "cell_type": "markdown",
   "metadata": {},
   "source": [
    "## Plotting the Data\n",
    "* Use proper labeling of the plots using plot titles (including date of analysis) and axes labels.\n",
    "* Save the plotted figures as .pngs."
   ]
  },
  {
   "cell_type": "markdown",
   "metadata": {},
   "source": [
    "## Latitude vs. Temperature Plot\n",
    "The scatter plot below indicates that the higher temperatures cluster around the latitudes between -40 and 20."
   ]
  },
  {
   "cell_type": "code",
   "execution_count": 27,
   "metadata": {
    "scrolled": true
   },
   "outputs": [
    {
     "data": {
      "image/png": "[encoded data removed]",
      "text/plain": [
       "<Figure size 432x288 with 1 Axes>"
      ]
     },
     "metadata": {
      "needs_background": "light"
     },
     "output_type": "display_data"
    }
   ],
   "source": [
    "# Build a scatter plot for latitude vs. temperature \n",
    "plt.scatter(weather_df['Latitude'], weather_df['Max Temp'], marker=\"o\")\n",
    "\n",
    "# Label axes and title and format time\n",
    "plt.title(\"City Latitude vs. Max Temperature (%s)\" % time.strftime(\"%x\"))\n",
    "plt.ylabel(\"Max Temperature (F)\")\n",
    "plt.xlabel(\"Latitude\")\n",
    "\n",
    "# Save the figure before plotting so graph can be viewed later\n",
    "plt.savefig(\"spltlatvstemp.png\")\n",
    "\n",
    "plt.grid(True)\n",
    "\n",
    "# Show plot\n",
    "plt.show()\n",
    "\n"
   ]
  },
  {
   "cell_type": "markdown",
   "metadata": {},
   "source": [
    "## Latitude vs. Humidity Plot\n",
    "The scatter plot below indicates that there is no correlation between latitude and humidity."
   ]
  },
  {
   "cell_type": "code",
   "execution_count": 28,
   "metadata": {},
   "outputs": [
    {
     "data": {
      "image/png": "[encoded data removed]",
      "text/plain": [
       "<Figure size 432x288 with 1 Axes>"
      ]
     },
     "metadata": {
      "needs_background": "light"
     },
     "output_type": "display_data"
    }
   ],
   "source": [
    "# Build a scatter plot for each data type\n",
    "plt.scatter(weather_df[\"Latitude\"], weather_df[\"Humidity\"], marker=\"o\")\n",
    "\n",
    "# Incorporate the other graph properties\n",
    "plt.title(\"City Latitude vs Humidity(%s)\" % time.strftime(\"%x\"))\n",
    "plt.ylabel(\"Humidity\")\n",
    "plt.xlabel(\"Latitude\")\n",
    "\n",
    "# Save the figure\n",
    "plt.savefig(\"spltlatvshumidity.png\")\n",
    "plt.grid(True)\n",
    "\n",
    "# Show plot\n",
    "plt.show()\n"
   ]
  },
  {
   "cell_type": "markdown",
   "metadata": {},
   "source": [
    "## Latitude vs. Cloudiness Plot\n",
    "The scatter plot below shows no correlation between latitude and cloudiness."
   ]
  },
  {
   "cell_type": "code",
   "execution_count": 29,
   "metadata": {},
   "outputs": [
    {
     "data": {
      "image/png": "[encoded data removed]",
      "text/plain": [
       "<Figure size 432x288 with 1 Axes>"
      ]
     },
     "metadata": {
      "needs_background": "light"
     },
     "output_type": "display_data"
    }
   ],
   "source": [
    "# Build a scatter plot for each data type\n",
    "plt.scatter(weather_df[\"Latitude\"], weather_df[\"Cloudiness\"], marker=\"o\")\n",
    "\n",
    "# Incorporate the other graph properties\n",
    "plt.title(\"City Latitude vs. Cloudiness (%s)\" % time.strftime(\"%x\"))\n",
    "plt.ylabel(\"Cloudiness %\")\n",
    "plt.xlabel(\"Latitude\")\n",
    "\n",
    "# Save the figure before plotting.\n",
    "plt.savefig(\"spltlatvsclouds.png\")\n",
    "plt.grid(True)\n",
    "\n",
    "# Show plot\n",
    "plt.show()\n",
    "\n"
   ]
  },
  {
   "cell_type": "markdown",
   "metadata": {},
   "source": [
    "## Latitude vs. Wind Speed Plot\n",
    "The scatter plot show no correlation between latitude and wind speed. The data reveals that most recorded wind speeds fall in the 0 to 25 mph range."
   ]
  },
  {
   "cell_type": "code",
   "execution_count": 30,
   "metadata": {},
   "outputs": [
    {
     "data": {
      "image/png": "[encoded data removed]",
      "text/plain": [
       "<Figure size 432x288 with 1 Axes>"
      ]
     },
     "metadata": {
      "needs_background": "light"
     },
     "output_type": "display_data"
    }
   ],
   "source": [
    "# Build a scatter plot for each data type\n",
    "plt.scatter(weather_df[\"Latitude\"], weather_df[\"Wind Speed\"], marker=\"o\")\n",
    "\n",
    "# Incorporate the other graph properties\n",
    "plt.title(\"City Latitude vs. Wind Speed(%s)\" % time.strftime(\"%x\"))\n",
    "plt.ylabel(\"Wind Speed (mph)\")\n",
    "plt.xlabel(\"Latitude\")\n",
    "\n",
    "# Save the figure before plotting\n",
    "plt.savefig(\"spltlatvswind.png\")\n",
    "plt.grid(True)\n",
    "\n",
    "# Show plot\n",
    "plt.show()\n",
    "\n"
   ]
  },
  {
   "cell_type": "markdown",
   "metadata": {},
   "source": [
    "## Linear Regression"
   ]
  },
  {
   "cell_type": "code",
   "execution_count": 15,
   "metadata": {},
   "outputs": [],
   "source": [
    "# Split the data into Northern (lat >==0) and Southern Hemispheres (lat < 0)\n",
    "\n",
    "northern_df = weather_df.loc[(weather_df[\"Latitude\"]>=0)]\n",
    "southern_df = weather_df.loc[(weather_df[\"Latitude\"]<0)]\n"
   ]
  },
  {
   "cell_type": "code",
   "execution_count": 16,
   "metadata": {},
   "outputs": [
    {
     "data": {
      "text/plain": [
       "City          386\n",
       "Country       386\n",
       "Max Temp      386\n",
       "Humidity      386\n",
       "Cloudiness    386\n",
       "Wind Speed    386\n",
       "Latitude      386\n",
       "Longitude     386\n",
       "Date          386\n",
       "dtype: int64"
      ]
     },
     "execution_count": 16,
     "metadata": {},
     "output_type": "execute_result"
    }
   ],
   "source": [
    "northern_df.count()"
   ]
  },
  {
   "cell_type": "code",
   "execution_count": 17,
   "metadata": {},
   "outputs": [
    {
     "data": {
      "text/plain": [
       "City          174\n",
       "Country       174\n",
       "Max Temp      174\n",
       "Humidity      174\n",
       "Cloudiness    174\n",
       "Wind Speed    174\n",
       "Latitude      174\n",
       "Longitude     174\n",
       "Date          174\n",
       "dtype: int64"
      ]
     },
     "execution_count": 17,
     "metadata": {},
     "output_type": "execute_result"
    }
   ],
   "source": [
    "southern_df.count()"
   ]
  },
  {
   "cell_type": "code",
   "execution_count": 34,
   "metadata": {},
   "outputs": [],
   "source": [
    "# Define the linear regression function along with the scatter plot for each graph\n",
    "# This worked except for saving the graphs - could not figure it out!\n",
    "\n",
    "#def line_regr(x_values, y_values, yaxis):\n",
    "\n",
    "    #(slope, intercept, rvalue, pvalue, stderr) = linregress(x_values, y_values)\n",
    "    #regress_values = slope * x_values + intercept\n",
    "    #line_eq = \"y = \" + str(round(slope,2)) + \"x + \" + str(round(intercept,2))\n",
    "    \n",
    "\n",
    "    # Scatter Plots    \n",
    "    #plt.scatter(x_values,y_values)\n",
    "    #plt.plot(x_values,regress_values, color = \"red\")\n",
    "    #plt.xlabel('Latitude')\n",
    "    #plt.ylabel(yaxis)\n",
    "    #print(f\"The correlation coefficient is {rvalue}\")\n",
    "    #print(f\"The regression equation is {line_eq}\")\n",
    "    #plt.show()\n"
   ]
  },
  {
   "cell_type": "markdown",
   "metadata": {},
   "source": [
    "####  Northern Hemisphere - Max Temp vs. Latitude Linear Regression\n",
    "\n",
    "There is a strong correlation between latitude and maximun temperature for cities in the Northern Hemisphere. As the latitude increases, temperature decreases. In other words, the closer the city is to the equator, the higher the maximum temperature."
   ]
  },
  {
   "cell_type": "code",
   "execution_count": 39,
   "metadata": {},
   "outputs": [
    {
     "name": "stdout",
     "output_type": "stream",
     "text": [
      "The correlation coefficient is -0.8651934109511233\n",
      "The regression equation is y = -1.39x + 93.12\n"
     ]
    },
    {
     "data": {
      "image/png": "[encoded data removed]",
      "text/plain": [
       "<Figure size 432x288 with 1 Axes>"
      ]
     },
     "metadata": {
      "needs_background": "light"
     },
     "output_type": "display_data"
    }
   ],
   "source": [
    "# Plot scatter plot with line of regression for Northern Hemisphere - max temp vs. latitude\n",
    "\n",
    "x_values = northern_df['Latitude']\n",
    "y_values = northern_df['Max Temp']\n",
    "\n",
    "(slope, intercept, rvalue, pvalue, stderr) = linregress(x_values, y_values)\n",
    "regress_values = slope * x_values + intercept\n",
    "line_eq = \"y = \" + str(round(slope,2)) + \"x + \" + str(round(intercept,2))\n",
    "\n",
    "plt.scatter(x_values,y_values)\n",
    "plt.plot(x_values,regress_values, color = \"red\")\n",
    "plt.xlabel('Latitude')\n",
    "plt.ylabel('Maximum Temperature')\n",
    "plt.savefig(\"NHlatvstemp.png\")\n",
    "plt.grid(True)\n",
    "print(f\"The correlation coefficient is {rvalue}\")\n",
    "print(f\"The regression equation is {line_eq}\")\n",
    "plt.show()\n"
   ]
  },
  {
   "cell_type": "markdown",
   "metadata": {},
   "source": [
    "####  Southern Hemisphere - Max Temp vs. Latitude Linear Regression\n",
    "\n",
    "There is no correlation between latitudes in the southern hemisphere and maximum temperatures."
   ]
  },
  {
   "cell_type": "code",
   "execution_count": 40,
   "metadata": {},
   "outputs": [
    {
     "name": "stdout",
     "output_type": "stream",
     "text": [
      "The correlation coefficient is 0.4809797615018107\n",
      "The regression equation is y = 0.32x + 81.7\n"
     ]
    },
    {
     "data": {
      "image/png": "[encoded data removed]",
      "text/plain": [
       "<Figure size 432x288 with 1 Axes>"
      ]
     },
     "metadata": {
      "needs_background": "light"
     },
     "output_type": "display_data"
    }
   ],
   "source": [
    "# Plot scatter plot with line of regression for Southern Hemisphere - max temp vs. latitude\n",
    "\n",
    "x_values = southern_df['Latitude']\n",
    "y_values = southern_df['Max Temp']\n",
    "\n",
    "(slope, intercept, rvalue, pvalue, stderr) = linregress(x_values, y_values)\n",
    "regress_values = slope * x_values + intercept\n",
    "line_eq = \"y = \" + str(round(slope,2)) + \"x + \" + str(round(intercept,2))\n",
    "\n",
    "plt.scatter(x_values,y_values)\n",
    "plt.plot(x_values,regress_values, color = \"red\")\n",
    "plt.xlabel('Latitude')\n",
    "plt.ylabel('Maximum Temperature')\n",
    "plt.savefig(\"SHlatvstemp.png\")\n",
    "plt.grid(True)\n",
    "print(f\"The correlation coefficient is {rvalue}\")\n",
    "print(f\"The regression equation is {line_eq}\")\n",
    "plt.show()\n"
   ]
  },
  {
   "cell_type": "markdown",
   "metadata": {},
   "source": [
    "####  Northern Hemisphere - Humidity (%) vs. Latitude Linear Regression\n",
    "\n",
    "There is no correlation between latitude for cities in the Northern Hemisphere and humidity."
   ]
  },
  {
   "cell_type": "code",
   "execution_count": 41,
   "metadata": {},
   "outputs": [
    {
     "name": "stdout",
     "output_type": "stream",
     "text": [
      "The correlation coefficient is 0.40074804358205957\n",
      "The regression equation is y = 0.46x + 52.43\n"
     ]
    },
    {
     "data": {
      "image/png": "[encoded data removed]",
      "text/plain": [
       "<Figure size 432x288 with 1 Axes>"
      ]
     },
     "metadata": {
      "needs_background": "light"
     },
     "output_type": "display_data"
    }
   ],
   "source": [
    "# Plot scatter plot and regression line for Northern Hemisphere - humidity vs. latitude\n",
    "\n",
    "x_values = northern_df['Latitude']\n",
    "y_values = northern_df['Humidity']\n",
    "\n",
    "(slope, intercept, rvalue, pvalue, stderr) = linregress(x_values, y_values)\n",
    "regress_values = slope * x_values + intercept\n",
    "line_eq = \"y = \" + str(round(slope,2)) + \"x + \" + str(round(intercept,2))\n",
    "\n",
    "plt.scatter(x_values,y_values)\n",
    "plt.plot(x_values,regress_values, color = \"red\")\n",
    "plt.xlabel('Latitude')\n",
    "plt.ylabel('Humidity %')\n",
    "plt.savefig(\"NHlatvshumidity.png\")\n",
    "plt.grid(True)\n",
    "print(f\"The correlation coefficient is {rvalue}\")\n",
    "print(f\"The regression equation is {line_eq}\")\n",
    "plt.show()\n"
   ]
  },
  {
   "cell_type": "markdown",
   "metadata": {},
   "source": [
    "####  Southern Hemisphere - Humidity (%) vs. Latitude Linear Regression\n",
    "\n",
    "There is no correlation between latitude for cities in the Southern Hemisphere and humidity."
   ]
  },
  {
   "cell_type": "code",
   "execution_count": 42,
   "metadata": {},
   "outputs": [
    {
     "name": "stdout",
     "output_type": "stream",
     "text": [
      "The correlation coefficient is 0.27771987916361296\n",
      "The regression equation is y = 0.42x + 82.42\n"
     ]
    },
    {
     "data": {
      "image/png": "[encoded data removed]",
      "text/plain": [
       "<Figure size 432x288 with 1 Axes>"
      ]
     },
     "metadata": {
      "needs_background": "light"
     },
     "output_type": "display_data"
    }
   ],
   "source": [
    "# Plot scatter plot and regression line for Southern Hemisphere - humidity vs. latitude\n",
    "\n",
    "x_values = southern_df['Latitude']\n",
    "y_values = southern_df['Humidity']\n",
    "\n",
    "(slope, intercept, rvalue, pvalue, stderr) = linregress(x_values, y_values)\n",
    "regress_values = slope * x_values + intercept\n",
    "line_eq = \"y = \" + str(round(slope,2)) + \"x + \" + str(round(intercept,2))\n",
    "\n",
    "plt.scatter(x_values,y_values)\n",
    "plt.plot(x_values,regress_values, color = \"red\")\n",
    "plt.xlabel('Latitude')\n",
    "plt.ylabel('Humidity %')\n",
    "plt.savefig(\"SHlatvshumidity.png\")\n",
    "plt.grid(True)\n",
    "print(f\"The correlation coefficient is {rvalue}\")\n",
    "print(f\"The regression equation is {line_eq}\")\n",
    "plt.show()\n"
   ]
  },
  {
   "cell_type": "markdown",
   "metadata": {},
   "source": [
    "####  Northern Hemisphere - Cloudiness (%) vs. Latitude Linear Regression\n",
    "\n",
    "There is no correlation between cloudiness for cities in the Northern Hemisphere and humidity."
   ]
  },
  {
   "cell_type": "code",
   "execution_count": 43,
   "metadata": {},
   "outputs": [
    {
     "name": "stdout",
     "output_type": "stream",
     "text": [
      "The correlation coefficient is 0.34340397098770065\n",
      "The regression equation is y = 0.66x + 31.84\n"
     ]
    },
    {
     "data": {
      "image/png": "[encoded data removed]",
      "text/plain": [
       "<Figure size 432x288 with 1 Axes>"
      ]
     },
     "metadata": {
      "needs_background": "light"
     },
     "output_type": "display_data"
    }
   ],
   "source": [
    "# Plot scatter plot and line of regression for Northern Hemisphere - cloudiness vs. latitude\n",
    "\n",
    "x_values = northern_df['Latitude']\n",
    "y_values = northern_df['Cloudiness']\n",
    "\n",
    "(slope, intercept, rvalue, pvalue, stderr) = linregress(x_values, y_values)\n",
    "regress_values = slope * x_values + intercept\n",
    "line_eq = \"y = \" + str(round(slope,2)) + \"x + \" + str(round(intercept,2))\n",
    "\n",
    "plt.scatter(x_values,y_values)\n",
    "plt.plot(x_values,regress_values, color = \"red\")\n",
    "plt.xlabel('Latitude')\n",
    "plt.ylabel('Cloudiness')\n",
    "plt.savefig(\"NHlatvsclouds.png\")\n",
    "plt.grid(True)\n",
    "print(f\"The correlation coefficient is {rvalue}\")\n",
    "print(f\"The regression equation is {line_eq}\")\n",
    "plt.show()\n"
   ]
  },
  {
   "cell_type": "markdown",
   "metadata": {},
   "source": [
    "####  Southern Hemisphere - Cloudiness (%) vs. Latitude Linear Regression\n",
    "\n",
    "There is no correlation between latitude for cities in the Southern Hemisphere and cloudiness."
   ]
  },
  {
   "cell_type": "code",
   "execution_count": 44,
   "metadata": {},
   "outputs": [
    {
     "name": "stdout",
     "output_type": "stream",
     "text": [
      "The correlation coefficient is 0.5111911567881802\n",
      "The regression equation is y = 1.35x + 95.36\n"
     ]
    },
    {
     "data": {
      "image/png": "[encoded data removed]",
      "text/plain": [
       "<Figure size 432x288 with 1 Axes>"
      ]
     },
     "metadata": {
      "needs_background": "light"
     },
     "output_type": "display_data"
    }
   ],
   "source": [
    "# Plot scatter plot and line of regression for Southern Hemisphere - cloudiness vs. latitude\n",
    "\n",
    "x_values = southern_df['Latitude']\n",
    "y_values = southern_df['Cloudiness']\n",
    "\n",
    "(slope, intercept, rvalue, pvalue, stderr) = linregress(x_values, y_values)\n",
    "regress_values = slope * x_values + intercept\n",
    "line_eq = \"y = \" + str(round(slope,2)) + \"x + \" + str(round(intercept,2))\n",
    "\n",
    "plt.scatter(x_values,y_values)\n",
    "plt.plot(x_values,regress_values, color = \"red\")\n",
    "plt.xlabel('Latitude')\n",
    "plt.ylabel('Cloudiness')\n",
    "plt.savefig(\"SHlatvsclouds.png\")\n",
    "plt.grid(True)\n",
    "print(f\"The correlation coefficient is {rvalue}\")\n",
    "print(f\"The regression equation is {line_eq}\")\n",
    "plt.show()"
   ]
  },
  {
   "cell_type": "markdown",
   "metadata": {},
   "source": [
    "####  Northern Hemisphere - Wind Speed (mph) vs. Latitude Linear Regression\n",
    "\n",
    "There is no correlation between latitude for cities in the Northern Hemisphere and windspeed."
   ]
  },
  {
   "cell_type": "code",
   "execution_count": 45,
   "metadata": {},
   "outputs": [
    {
     "name": "stdout",
     "output_type": "stream",
     "text": [
      "The correlation coefficient is 0.09388426125441554\n",
      "The regression equation is y = 0.03x + 6.82\n"
     ]
    },
    {
     "data": {
      "image/png": "[encoded data removed]",
      "text/plain": [
       "<Figure size 432x288 with 1 Axes>"
      ]
     },
     "metadata": {
      "needs_background": "light"
     },
     "output_type": "display_data"
    }
   ],
   "source": [
    "# Plot scatter plot and line of regression for Northern Hemisphere - wind speed vs. latitude\n",
    "\n",
    "x_values = northern_df['Latitude']\n",
    "y_values = northern_df['Wind Speed']\n",
    "\n",
    "(slope, intercept, rvalue, pvalue, stderr) = linregress(x_values, y_values)\n",
    "regress_values = slope * x_values + intercept\n",
    "line_eq = \"y = \" + str(round(slope,2)) + \"x + \" + str(round(intercept,2))\n",
    "\n",
    "plt.scatter(x_values,y_values)\n",
    "plt.plot(x_values,regress_values, color = \"red\")\n",
    "plt.xlabel('Latitude')\n",
    "plt.ylabel('Wind Speed')\n",
    "plt.savefig(\"NHlatvswind.png\")\n",
    "plt.grid(True)\n",
    "print(f\"The correlation coefficient is {rvalue}\")\n",
    "print(f\"The regression equation is {line_eq}\")\n",
    "plt.show()\n"
   ]
  },
  {
   "cell_type": "markdown",
   "metadata": {},
   "source": [
    "####  Southern Hemisphere - Wind Speed (mph) vs. Latitude Linear Regression\n",
    "\n",
    "There is no correlation between latitude for cities in the Southern Hemisphere and wind speed."
   ]
  },
  {
   "cell_type": "code",
   "execution_count": 46,
   "metadata": {},
   "outputs": [
    {
     "name": "stdout",
     "output_type": "stream",
     "text": [
      "The correlation coefficient is -0.34574343021958265\n",
      "The regression equation is y = -0.16x + 5.37\n"
     ]
    },
    {
     "data": {
      "image/png": "[encoded data removed]",
      "text/plain": [
       "<Figure size 432x288 with 1 Axes>"
      ]
     },
     "metadata": {
      "needs_background": "light"
     },
     "output_type": "display_data"
    }
   ],
   "source": [
    "# Plot scatter plot and line of regression for Southern Hemisphere - wind speed vs. latitude\n",
    "\n",
    "x_values = southern_df['Latitude']\n",
    "y_values = southern_df['Wind Speed']\n",
    "\n",
    "(slope, intercept, rvalue, pvalue, stderr) = linregress(x_values, y_values)\n",
    "regress_values = slope * x_values + intercept\n",
    "line_eq = \"y = \" + str(round(slope,2)) + \"x + \" + str(round(intercept,2))\n",
    "\n",
    "plt.scatter(x_values,y_values)\n",
    "plt.plot(x_values,regress_values, color = \"red\")\n",
    "plt.xlabel('Latitude')\n",
    "plt.ylabel('Wind Speed')\n",
    "plt.savefig(\"SHlatvswind.png\")\n",
    "plt.grid(True)\n",
    "print(f\"The correlation coefficient is {rvalue}\")\n",
    "print(f\"The regression equation is {line_eq}\")\n",
    "plt.show()"
   ]
  },
  {
   "cell_type": "code",
   "execution_count": null,
   "metadata": {},
   "outputs": [],
   "source": []
  }
 ],
 "metadata": {
  "anaconda-cloud": {},
  "kernel_info": {
   "name": "python3"
  },
  "kernelspec": {
   "display_name": "Python 3 (ipykernel)",
   "language": "python",
   "name": "python3"
  },
  "language_info": {
   "codemirror_mode": {
    "name": "ipython",
    "version": 3
   },
   "file_extension": ".py",
   "mimetype": "text/x-python",
   "name": "python",
   "nbconvert_exporter": "python",
   "pygments_lexer": "ipython3",
   "version": "3.9.7"
  },
  "latex_envs": {
   "LaTeX_envs_menu_present": true,
   "autoclose": false,
   "autocomplete": true,
   "bibliofile": "biblio.bib",
   "cite_by": "apalike",
   "current_citInitial": 1,
   "eqLabelWithNumbers": true,
   "eqNumInitial": 1,
   "hotkeys": {
    "equation": "Ctrl-E",
    "itemize": "Ctrl-I"
   },
   "labels_anchors": false,
   "latex_user_defs": false,
   "report_style_numbering": false,
   "user_envs_cfg": false
  },
  "nteract": {
   "version": "0.12.3"
  }
 },
 "nbformat": 4,
 "nbformat_minor": 2
}
