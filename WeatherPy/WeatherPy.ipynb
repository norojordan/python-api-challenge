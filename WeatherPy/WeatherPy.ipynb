{
 "cells": [
  {
   "cell_type": "markdown",
   "metadata": {},
   "source": [
    "# WeatherPy\n",
    "----\n",
    "\n",
    "#### Note\n",
    "* Instructions have been included for each segment. You do not have to follow them exactly, but they are included to help you think through the steps."
   ]
  },
  {
   "cell_type": "code",
   "execution_count": 2,
   "metadata": {
    "scrolled": true
   },
   "outputs": [],
   "source": [
    "# Dependencies and Setup\n",
    "import matplotlib.pyplot as plt\n",
    "import pandas as pd\n",
    "import numpy as np\n",
    "import requests\n",
    "import time\n",
    "from scipy.stats import linregress\n",
    "\n",
    "# Import API key\n",
    "\n",
    "from api_keys import api_key\n",
    "\n",
    "# Incorporated citipy to determine city based on latitude and longitude (Python library)\n",
    "from citipy import citipy\n",
    "\n",
    "# Output File (CSV)\n",
    "output_data_file = \"output_data/cities.csv\"\n",
    "\n",
    "# Range of latitudes and longitudes\n",
    "lat_range = (-90, 90)\n",
    "lng_range = (-180, 180)"
   ]
  },
  {
   "cell_type": "markdown",
   "metadata": {},
   "source": [
    "## Generate Cities List"
   ]
  },
  {
   "cell_type": "code",
   "execution_count": 6,
   "metadata": {},
   "outputs": [
    {
     "name": "stdout",
     "output_type": "stream",
     "text": [
      "Collecting citipy\n",
      "  Downloading citipy-0.0.5.tar.gz (557 kB)\n",
      "\u001b[K     |████████████████████████████████| 557 kB 4.0 MB/s eta 0:00:01\n",
      "\u001b[?25hCollecting kdtree>=0.12\n",
      "  Downloading kdtree-0.16-py2.py3-none-any.whl (7.7 kB)\n",
      "Building wheels for collected packages: citipy\n",
      "  Building wheel for citipy (setup.py) ... \u001b[?25ldone\n",
      "\u001b[?25h  Created wheel for citipy: filename=citipy-0.0.5-py3-none-any.whl size=559700 sha256=5510be2b79a2e6268607129c7d18482b488b45b8ddb522cb8ddbc8b8c1130f5c\n",
      "  Stored in directory: /Users/noreenjordan/Library/Caches/pip/wheels/d9/dd/68/8cc0be16282b0fcae5acb7280b47d31952f203c401923a8c1e\n",
      "Successfully built citipy\n",
      "Installing collected packages: kdtree, citipy\n",
      "Successfully installed citipy-0.0.5 kdtree-0.16\n",
      "Note: you may need to restart the kernel to use updated packages.\n"
     ]
    }
   ],
   "source": [
    "#pip install citipy"
   ]
  },
  {
   "cell_type": "code",
   "execution_count": 3,
   "metadata": {},
   "outputs": [
    {
     "data": {
      "text/plain": [
       "632"
      ]
     },
     "execution_count": 3,
     "metadata": {},
     "output_type": "execute_result"
    }
   ],
   "source": [
    "# List for holding lat_lngs and cities\n",
    "lat_lngs = []\n",
    "cities = []\n",
    "\n",
    "# Create a set of random lat and lng combinations\n",
    "lats = np.random.uniform(lat_range[0], lat_range[1], size=1500)\n",
    "lngs = np.random.uniform(lng_range[0], lng_range[1], size=1500)\n",
    "lat_lngs = zip(lats, lngs)\n",
    "\n",
    "# Identify nearest city for each lat, lng combination\n",
    "for lat_lng in lat_lngs:\n",
    "    city = citipy.nearest_city(lat_lng[0], lat_lng[1]).city_name\n",
    "    \n",
    "    # If the city is unique, then add it to a our cities list\n",
    "    if city not in cities:\n",
    "        cities.append(city)\n",
    "\n",
    "# Print the city count to confirm sufficient count\n",
    "len(cities)"
   ]
  },
  {
   "cell_type": "markdown",
   "metadata": {},
   "source": [
    "### Perform API Calls\n",
    "* Perform a weather check on each city using a series of successive API calls.\n",
    "* Include a print log of each city as it'sbeing processed (with the city number and city name).\n",
    "\n",
    "> **HINT:** The OpenWeatherMap API only allows 60 calls per minute under their free plan. Try using `time.sleep(60)` after each set of 50 cities to avoid API errors due to large calls."
   ]
  },
  {
   "cell_type": "code",
   "execution_count": 4,
   "metadata": {},
   "outputs": [],
   "source": [
    "# Save config information.\n",
    "url = \"http://api.openweathermap.org/data/2.5/weather?\"\n",
    "units = \"imperial\"\n",
    "\n",
    "# Build partial query URL\n",
    "query_url = f\"{url}appid={api_key}&units={units}&q=\""
   ]
  },
  {
   "cell_type": "code",
   "execution_count": 5,
   "metadata": {},
   "outputs": [
    {
     "name": "stdout",
     "output_type": "stream",
     "text": [
      "The weather API responded with: {'coord': {'lon': -134.9692, 'lat': -23.1203}, 'weather': [{'id': 804, 'main': 'Clouds', 'description': 'overcast clouds', 'icon': '04n'}], 'base': 'stations', 'main': {'temp': 78.53, 'feels_like': 79.56, 'temp_min': 78.53, 'temp_max': 78.53, 'pressure': 1020, 'humidity': 74, 'sea_level': 1020, 'grnd_level': 1017}, 'visibility': 10000, 'wind': {'speed': 17.27, 'deg': 97, 'gust': 19.46}, 'clouds': {'all': 87}, 'dt': 1643341799, 'sys': {'country': 'PF', 'sunrise': 1643294166, 'sunset': 1643341741}, 'timezone': -32400, 'id': 4030556, 'name': 'Rikitea', 'cod': 200}.\n"
     ]
    }
   ],
   "source": [
    "# Get weather data and check out the necessry keywords for the queries\n",
    "response = requests.get(query_url + city).json()\n",
    "\n",
    "print(f\"The weather API responded with: {response}.\")"
   ]
  },
  {
   "cell_type": "code",
   "execution_count": 19,
   "metadata": {
    "scrolled": true
   },
   "outputs": [
    {
     "name": "stdout",
     "output_type": "stream",
     "text": [
      "Processing city: carbonear\n",
      "Processing city: mbekenyera\n",
      "City NOT found. Skip taolanaro\n",
      "Processing city: porto velho\n",
      "Processing city: kapaa\n",
      "Processing city: karratha\n",
      "Processing city: hithadhoo\n",
      "Processing city: thompson\n",
      "Processing city: rikitea\n",
      "Processing city: kahului\n",
      "Data Retrieval Complete\n"
     ]
    }
   ],
   "source": [
    "# Build a list \n",
    "\n",
    "citylist = []\n",
    "lat = []\n",
    "lon = []\n",
    "temp = []\n",
    "humidity = []\n",
    "clouds = []\n",
    "wind_rate = []\n",
    "country = []\n",
    "date = []\n",
    "\n",
    "count = 1\n",
    "\n",
    "\n",
    "for city in cities:\n",
    "    if count < 11:\n",
    "        try:\n",
    "            response = requests.get(query_url + city).json()\n",
    "            lat.append(response['coord']['lat'])\n",
    "            lon.append(response['coord']['lon'])\n",
    "            temp.append(response['main']['temp_max'])\n",
    "            humidity.append(response['main']['humidity'])\n",
    "            clouds.append(response['clouds']['all'])\n",
    "            wind_rate.append(response['wind']['speed'])\n",
    "            country.append(response[\"sys\"][\"country\"])\n",
    "            date.append(response['dt'])\n",
    "            citylist.append(city)\n",
    "            print(f\"Processing city: {city}\")\n",
    "        except:\n",
    "            print(f\"City NOT found. Skip {city}\")\n",
    "        count+=1\n",
    "print(f\"Data Retrieval Complete\")\n",
    "        #If count = 50:\n",
    "            #time.sleep(60)\n",
    "            #count = 0\n",
    "        \n",
    "        \n",
    "        #HINT: The OpenWeatherMap API only allows 60 calls per minute under their free plan. Try using time.sleep(60) after each set of 50 cities to avoid API errors due to large calls.\n",
    "        # Add a one second interval between queries to stay within API query limits\n",
    "    \n",
    "    \n",
    "\n",
    "    "
   ]
  },
  {
   "cell_type": "markdown",
   "metadata": {},
   "source": [
    "### Convert Raw Data to DataFrame\n",
    "* Export the city data into a .csv.\n",
    "* Display the DataFrame"
   ]
  },
  {
   "cell_type": "code",
   "execution_count": 20,
   "metadata": {},
   "outputs": [
    {
     "data": {
      "text/html": [
       "<div>\n",
       "<style scoped>\n",
       "    .dataframe tbody tr th:only-of-type {\n",
       "        vertical-align: middle;\n",
       "    }\n",
       "\n",
       "    .dataframe tbody tr th {\n",
       "        vertical-align: top;\n",
       "    }\n",
       "\n",
       "    .dataframe thead th {\n",
       "        text-align: right;\n",
       "    }\n",
       "</style>\n",
       "<table border=\"1\" class=\"dataframe\">\n",
       "  <thead>\n",
       "    <tr style=\"text-align: right;\">\n",
       "      <th></th>\n",
       "      <th>City</th>\n",
       "      <th>Country</th>\n",
       "      <th>Max Temp</th>\n",
       "      <th>Humidity</th>\n",
       "      <th>Cloudiness</th>\n",
       "      <th>Wind Speed</th>\n",
       "      <th>Latitude</th>\n",
       "      <th>Longitude</th>\n",
       "      <th>Date</th>\n",
       "    </tr>\n",
       "  </thead>\n",
       "  <tbody>\n",
       "    <tr>\n",
       "      <th>0</th>\n",
       "      <td>carbonear</td>\n",
       "      <td>CA</td>\n",
       "      <td>16.63</td>\n",
       "      <td>72</td>\n",
       "      <td>95</td>\n",
       "      <td>7.11</td>\n",
       "      <td>47.7332</td>\n",
       "      <td>-53.2148</td>\n",
       "      <td>1643343104</td>\n",
       "    </tr>\n",
       "    <tr>\n",
       "      <th>1</th>\n",
       "      <td>mbekenyera</td>\n",
       "      <td>TZ</td>\n",
       "      <td>69.85</td>\n",
       "      <td>97</td>\n",
       "      <td>100</td>\n",
       "      <td>3.06</td>\n",
       "      <td>-10.0000</td>\n",
       "      <td>38.9833</td>\n",
       "      <td>1643343105</td>\n",
       "    </tr>\n",
       "    <tr>\n",
       "      <th>2</th>\n",
       "      <td>porto velho</td>\n",
       "      <td>BR</td>\n",
       "      <td>75.25</td>\n",
       "      <td>94</td>\n",
       "      <td>0</td>\n",
       "      <td>1.14</td>\n",
       "      <td>-8.7619</td>\n",
       "      <td>-63.9039</td>\n",
       "      <td>1643343105</td>\n",
       "    </tr>\n",
       "    <tr>\n",
       "      <th>3</th>\n",
       "      <td>kapaa</td>\n",
       "      <td>US</td>\n",
       "      <td>75.52</td>\n",
       "      <td>71</td>\n",
       "      <td>0</td>\n",
       "      <td>4.61</td>\n",
       "      <td>22.0752</td>\n",
       "      <td>-159.3190</td>\n",
       "      <td>1643343080</td>\n",
       "    </tr>\n",
       "    <tr>\n",
       "      <th>4</th>\n",
       "      <td>karratha</td>\n",
       "      <td>AU</td>\n",
       "      <td>89.64</td>\n",
       "      <td>47</td>\n",
       "      <td>62</td>\n",
       "      <td>17.60</td>\n",
       "      <td>-20.7377</td>\n",
       "      <td>116.8463</td>\n",
       "      <td>1643343105</td>\n",
       "    </tr>\n",
       "  </tbody>\n",
       "</table>\n",
       "</div>"
      ],
      "text/plain": [
       "          City Country  Max Temp  Humidity  Cloudiness  Wind Speed  Latitude  \\\n",
       "0    carbonear      CA     16.63        72          95        7.11   47.7332   \n",
       "1   mbekenyera      TZ     69.85        97         100        3.06  -10.0000   \n",
       "2  porto velho      BR     75.25        94           0        1.14   -8.7619   \n",
       "3        kapaa      US     75.52        71           0        4.61   22.0752   \n",
       "4     karratha      AU     89.64        47          62       17.60  -20.7377   \n",
       "\n",
       "   Longitude        Date  \n",
       "0   -53.2148  1643343104  \n",
       "1    38.9833  1643343105  \n",
       "2   -63.9039  1643343105  \n",
       "3  -159.3190  1643343080  \n",
       "4   116.8463  1643343105  "
      ]
     },
     "execution_count": 20,
     "metadata": {},
     "output_type": "execute_result"
    }
   ],
   "source": [
    "# Create a data frame from \n",
    "\n",
    "weather_df = pd.DataFrame({\"City\": citylist,\n",
    "                           \"Country\": country,\n",
    "                           \"Max Temp\": temp,\n",
    "                           \"Humidity\": humidity,\n",
    "                           \"Cloudiness\": clouds,\n",
    "                           \"Wind Speed\":wind_rate,\n",
    "                           \"Latitude\": lat,\n",
    "                           \"Longitude\": lon,\n",
    "                           \"Date\": date\n",
    "                          })\n",
    "\n",
    "weather_df.head()"
   ]
  },
  {
   "cell_type": "code",
   "execution_count": null,
   "metadata": {},
   "outputs": [],
   "source": [
    "# Export the data to a .csv\n",
    "#weather_df.to_csv(r'Desktop/UPenn/WorkRepositories/python-api-challenge/output_data/cities.csv, index = False)\n",
    "#df.to_csv(r'Path where you want to store the exported CSV file\\File Name.csv', index = False)\n"
   ]
  },
  {
   "cell_type": "code",
   "execution_count": 21,
   "metadata": {},
   "outputs": [
    {
     "data": {
      "text/html": [
       "<div>\n",
       "<style scoped>\n",
       "    .dataframe tbody tr th:only-of-type {\n",
       "        vertical-align: middle;\n",
       "    }\n",
       "\n",
       "    .dataframe tbody tr th {\n",
       "        vertical-align: top;\n",
       "    }\n",
       "\n",
       "    .dataframe thead th {\n",
       "        text-align: right;\n",
       "    }\n",
       "</style>\n",
       "<table border=\"1\" class=\"dataframe\">\n",
       "  <thead>\n",
       "    <tr style=\"text-align: right;\">\n",
       "      <th></th>\n",
       "      <th>Max Temp</th>\n",
       "      <th>Humidity</th>\n",
       "      <th>Cloudiness</th>\n",
       "      <th>Wind Speed</th>\n",
       "      <th>Latitude</th>\n",
       "      <th>Longitude</th>\n",
       "      <th>Date</th>\n",
       "    </tr>\n",
       "  </thead>\n",
       "  <tbody>\n",
       "    <tr>\n",
       "      <th>count</th>\n",
       "      <td>9.000000</td>\n",
       "      <td>9.000000</td>\n",
       "      <td>9.000000</td>\n",
       "      <td>9.000000</td>\n",
       "      <td>9.000000</td>\n",
       "      <td>9.000000</td>\n",
       "      <td>9.000000e+00</td>\n",
       "    </tr>\n",
       "    <tr>\n",
       "      <th>mean</th>\n",
       "      <td>62.176667</td>\n",
       "      <td>73.333333</td>\n",
       "      <td>57.555556</td>\n",
       "      <td>9.277778</td>\n",
       "      <td>9.247411</td>\n",
       "      <td>-48.535533</td>\n",
       "      <td>1.643343e+09</td>\n",
       "    </tr>\n",
       "    <tr>\n",
       "      <th>std</th>\n",
       "      <td>33.050147</td>\n",
       "      <td>14.966630</td>\n",
       "      <td>39.780998</td>\n",
       "      <td>6.014935</td>\n",
       "      <td>28.900257</td>\n",
       "      <td>102.399959</td>\n",
       "      <td>1.067608e+02</td>\n",
       "    </tr>\n",
       "    <tr>\n",
       "      <th>min</th>\n",
       "      <td>-5.640000</td>\n",
       "      <td>47.000000</td>\n",
       "      <td>0.000000</td>\n",
       "      <td>1.140000</td>\n",
       "      <td>-23.120300</td>\n",
       "      <td>-159.319000</td>\n",
       "      <td>1.643343e+09</td>\n",
       "    </tr>\n",
       "    <tr>\n",
       "      <th>25%</th>\n",
       "      <td>69.850000</td>\n",
       "      <td>70.000000</td>\n",
       "      <td>40.000000</td>\n",
       "      <td>4.610000</td>\n",
       "      <td>-10.000000</td>\n",
       "      <td>-134.969200</td>\n",
       "      <td>1.643343e+09</td>\n",
       "    </tr>\n",
       "    <tr>\n",
       "      <th>50%</th>\n",
       "      <td>75.520000</td>\n",
       "      <td>71.000000</td>\n",
       "      <td>62.000000</td>\n",
       "      <td>9.220000</td>\n",
       "      <td>-0.600000</td>\n",
       "      <td>-63.903900</td>\n",
       "      <td>1.643343e+09</td>\n",
       "    </tr>\n",
       "    <tr>\n",
       "      <th>75%</th>\n",
       "      <td>78.530000</td>\n",
       "      <td>74.000000</td>\n",
       "      <td>94.000000</td>\n",
       "      <td>14.270000</td>\n",
       "      <td>22.075200</td>\n",
       "      <td>38.983300</td>\n",
       "      <td>1.643343e+09</td>\n",
       "    </tr>\n",
       "    <tr>\n",
       "      <th>max</th>\n",
       "      <td>89.640000</td>\n",
       "      <td>97.000000</td>\n",
       "      <td>100.000000</td>\n",
       "      <td>17.600000</td>\n",
       "      <td>55.743500</td>\n",
       "      <td>116.846300</td>\n",
       "      <td>1.643343e+09</td>\n",
       "    </tr>\n",
       "  </tbody>\n",
       "</table>\n",
       "</div>"
      ],
      "text/plain": [
       "        Max Temp   Humidity  Cloudiness  Wind Speed   Latitude   Longitude  \\\n",
       "count   9.000000   9.000000    9.000000    9.000000   9.000000    9.000000   \n",
       "mean   62.176667  73.333333   57.555556    9.277778   9.247411  -48.535533   \n",
       "std    33.050147  14.966630   39.780998    6.014935  28.900257  102.399959   \n",
       "min    -5.640000  47.000000    0.000000    1.140000 -23.120300 -159.319000   \n",
       "25%    69.850000  70.000000   40.000000    4.610000 -10.000000 -134.969200   \n",
       "50%    75.520000  71.000000   62.000000    9.220000  -0.600000  -63.903900   \n",
       "75%    78.530000  74.000000   94.000000   14.270000  22.075200   38.983300   \n",
       "max    89.640000  97.000000  100.000000   17.600000  55.743500  116.846300   \n",
       "\n",
       "               Date  \n",
       "count  9.000000e+00  \n",
       "mean   1.643343e+09  \n",
       "std    1.067608e+02  \n",
       "min    1.643343e+09  \n",
       "25%    1.643343e+09  \n",
       "50%    1.643343e+09  \n",
       "75%    1.643343e+09  \n",
       "max    1.643343e+09  "
      ]
     },
     "execution_count": 21,
     "metadata": {},
     "output_type": "execute_result"
    }
   ],
   "source": [
    "#check to see if any of the cities has higher than 100% humidity\n",
    "weather_df.describe()\n"
   ]
  },
  {
   "cell_type": "markdown",
   "metadata": {},
   "source": [
    "## Inspect the data and remove the cities where the humidity > 100%.\n",
    "----\n",
    "Skip this step if there are no cities that have humidity > 100%. "
   ]
  },
  {
   "cell_type": "code",
   "execution_count": 6,
   "metadata": {},
   "outputs": [
    {
     "data": {
      "text/html": [
       "<div>\n",
       "<style scoped>\n",
       "    .dataframe tbody tr th:only-of-type {\n",
       "        vertical-align: middle;\n",
       "    }\n",
       "\n",
       "    .dataframe tbody tr th {\n",
       "        vertical-align: top;\n",
       "    }\n",
       "\n",
       "    .dataframe thead th {\n",
       "        text-align: right;\n",
       "    }\n",
       "</style>\n",
       "<table border=\"1\" class=\"dataframe\">\n",
       "  <thead>\n",
       "    <tr style=\"text-align: right;\">\n",
       "      <th></th>\n",
       "      <th>Lat</th>\n",
       "      <th>Lng</th>\n",
       "      <th>Max Temp</th>\n",
       "      <th>Humidity</th>\n",
       "      <th>Cloudiness</th>\n",
       "      <th>Wind Speed</th>\n",
       "      <th>Date</th>\n",
       "    </tr>\n",
       "  </thead>\n",
       "  <tbody>\n",
       "    <tr>\n",
       "      <th>count</th>\n",
       "      <td>550.000000</td>\n",
       "      <td>550.000000</td>\n",
       "      <td>550.000000</td>\n",
       "      <td>550.000000</td>\n",
       "      <td>550.000000</td>\n",
       "      <td>550.000000</td>\n",
       "      <td>5.500000e+02</td>\n",
       "    </tr>\n",
       "    <tr>\n",
       "      <th>mean</th>\n",
       "      <td>19.973545</td>\n",
       "      <td>17.124400</td>\n",
       "      <td>58.331400</td>\n",
       "      <td>67.890909</td>\n",
       "      <td>52.141818</td>\n",
       "      <td>8.544800</td>\n",
       "      <td>1.585764e+09</td>\n",
       "    </tr>\n",
       "    <tr>\n",
       "      <th>std</th>\n",
       "      <td>33.284840</td>\n",
       "      <td>91.595451</td>\n",
       "      <td>25.795297</td>\n",
       "      <td>20.864881</td>\n",
       "      <td>35.766469</td>\n",
       "      <td>6.078869</td>\n",
       "      <td>5.539674e+01</td>\n",
       "    </tr>\n",
       "    <tr>\n",
       "      <th>min</th>\n",
       "      <td>-54.800000</td>\n",
       "      <td>-179.170000</td>\n",
       "      <td>-11.340000</td>\n",
       "      <td>9.000000</td>\n",
       "      <td>0.000000</td>\n",
       "      <td>0.160000</td>\n",
       "      <td>1.585764e+09</td>\n",
       "    </tr>\n",
       "    <tr>\n",
       "      <th>25%</th>\n",
       "      <td>-8.077500</td>\n",
       "      <td>-64.627500</td>\n",
       "      <td>42.800000</td>\n",
       "      <td>55.000000</td>\n",
       "      <td>20.000000</td>\n",
       "      <td>4.525000</td>\n",
       "      <td>1.585764e+09</td>\n",
       "    </tr>\n",
       "    <tr>\n",
       "      <th>50%</th>\n",
       "      <td>23.630000</td>\n",
       "      <td>19.635000</td>\n",
       "      <td>64.940000</td>\n",
       "      <td>72.000000</td>\n",
       "      <td>57.000000</td>\n",
       "      <td>7.325000</td>\n",
       "      <td>1.585764e+09</td>\n",
       "    </tr>\n",
       "    <tr>\n",
       "      <th>75%</th>\n",
       "      <td>48.672500</td>\n",
       "      <td>97.350000</td>\n",
       "      <td>78.800000</td>\n",
       "      <td>83.000000</td>\n",
       "      <td>86.750000</td>\n",
       "      <td>11.410000</td>\n",
       "      <td>1.585764e+09</td>\n",
       "    </tr>\n",
       "    <tr>\n",
       "      <th>max</th>\n",
       "      <td>78.220000</td>\n",
       "      <td>179.320000</td>\n",
       "      <td>102.200000</td>\n",
       "      <td>100.000000</td>\n",
       "      <td>100.000000</td>\n",
       "      <td>46.080000</td>\n",
       "      <td>1.585764e+09</td>\n",
       "    </tr>\n",
       "  </tbody>\n",
       "</table>\n",
       "</div>"
      ],
      "text/plain": [
       "              Lat         Lng    Max Temp    Humidity  Cloudiness  Wind Speed  \\\n",
       "count  550.000000  550.000000  550.000000  550.000000  550.000000  550.000000   \n",
       "mean    19.973545   17.124400   58.331400   67.890909   52.141818    8.544800   \n",
       "std     33.284840   91.595451   25.795297   20.864881   35.766469    6.078869   \n",
       "min    -54.800000 -179.170000  -11.340000    9.000000    0.000000    0.160000   \n",
       "25%     -8.077500  -64.627500   42.800000   55.000000   20.000000    4.525000   \n",
       "50%     23.630000   19.635000   64.940000   72.000000   57.000000    7.325000   \n",
       "75%     48.672500   97.350000   78.800000   83.000000   86.750000   11.410000   \n",
       "max     78.220000  179.320000  102.200000  100.000000  100.000000   46.080000   \n",
       "\n",
       "               Date  \n",
       "count  5.500000e+02  \n",
       "mean   1.585764e+09  \n",
       "std    5.539674e+01  \n",
       "min    1.585764e+09  \n",
       "25%    1.585764e+09  \n",
       "50%    1.585764e+09  \n",
       "75%    1.585764e+09  \n",
       "max    1.585764e+09  "
      ]
     },
     "execution_count": 6,
     "metadata": {},
     "output_type": "execute_result"
    }
   ],
   "source": [
    "#high_humidity = weather_df(weather_df[\"Humidity\"]>100)\n",
    "#high_humidity"
   ]
  },
  {
   "cell_type": "code",
   "execution_count": 17,
   "metadata": {},
   "outputs": [
    {
     "data": {
      "text/plain": [
       "Int64Index([], dtype='int64')"
      ]
     },
     "execution_count": 17,
     "metadata": {},
     "output_type": "execute_result"
    }
   ],
   "source": [
    "# Get the indices of cities that have humidity over 100%.\n",
    "#high_humidity.index\n"
   ]
  },
  {
   "cell_type": "code",
   "execution_count": 19,
   "metadata": {},
   "outputs": [
    {
     "data": {
      "text/html": [
       "<div>\n",
       "<style scoped>\n",
       "    .dataframe tbody tr th:only-of-type {\n",
       "        vertical-align: middle;\n",
       "    }\n",
       "\n",
       "    .dataframe tbody tr th {\n",
       "        vertical-align: top;\n",
       "    }\n",
       "\n",
       "    .dataframe thead th {\n",
       "        text-align: right;\n",
       "    }\n",
       "</style>\n",
       "<table border=\"1\" class=\"dataframe\">\n",
       "  <thead>\n",
       "    <tr style=\"text-align: right;\">\n",
       "      <th></th>\n",
       "      <th>City</th>\n",
       "      <th>Lat</th>\n",
       "      <th>Lng</th>\n",
       "      <th>Max Temp</th>\n",
       "      <th>Humidity</th>\n",
       "      <th>Cloudiness</th>\n",
       "      <th>Wind Speed</th>\n",
       "      <th>Country</th>\n",
       "      <th>Date</th>\n",
       "    </tr>\n",
       "  </thead>\n",
       "  <tbody>\n",
       "    <tr>\n",
       "      <td>0</td>\n",
       "      <td>butaritari</td>\n",
       "      <td>3.07</td>\n",
       "      <td>172.79</td>\n",
       "      <td>83.32</td>\n",
       "      <td>74</td>\n",
       "      <td>84</td>\n",
       "      <td>10.42</td>\n",
       "      <td>KI</td>\n",
       "      <td>1593605283</td>\n",
       "    </tr>\n",
       "    <tr>\n",
       "      <td>1</td>\n",
       "      <td>yerbogachen</td>\n",
       "      <td>61.28</td>\n",
       "      <td>108.01</td>\n",
       "      <td>79.52</td>\n",
       "      <td>58</td>\n",
       "      <td>20</td>\n",
       "      <td>7.70</td>\n",
       "      <td>RU</td>\n",
       "      <td>1593605121</td>\n",
       "    </tr>\n",
       "    <tr>\n",
       "      <td>2</td>\n",
       "      <td>cape town</td>\n",
       "      <td>-33.93</td>\n",
       "      <td>18.42</td>\n",
       "      <td>73.00</td>\n",
       "      <td>77</td>\n",
       "      <td>27</td>\n",
       "      <td>4.70</td>\n",
       "      <td>ZA</td>\n",
       "      <td>1593605039</td>\n",
       "    </tr>\n",
       "    <tr>\n",
       "      <td>3</td>\n",
       "      <td>touba</td>\n",
       "      <td>8.28</td>\n",
       "      <td>-7.68</td>\n",
       "      <td>79.97</td>\n",
       "      <td>75</td>\n",
       "      <td>82</td>\n",
       "      <td>3.58</td>\n",
       "      <td>CI</td>\n",
       "      <td>1593605284</td>\n",
       "    </tr>\n",
       "    <tr>\n",
       "      <td>4</td>\n",
       "      <td>jamestown</td>\n",
       "      <td>42.10</td>\n",
       "      <td>-79.24</td>\n",
       "      <td>64.00</td>\n",
       "      <td>88</td>\n",
       "      <td>1</td>\n",
       "      <td>6.93</td>\n",
       "      <td>US</td>\n",
       "      <td>1593605284</td>\n",
       "    </tr>\n",
       "  </tbody>\n",
       "</table>\n",
       "</div>"
      ],
      "text/plain": [
       "          City    Lat     Lng  Max Temp  Humidity  Cloudiness  Wind Speed  \\\n",
       "0   butaritari   3.07  172.79     83.32        74          84       10.42   \n",
       "1  yerbogachen  61.28  108.01     79.52        58          20        7.70   \n",
       "2    cape town -33.93   18.42     73.00        77          27        4.70   \n",
       "3        touba   8.28   -7.68     79.97        75          82        3.58   \n",
       "4    jamestown  42.10  -79.24     64.00        88           1        6.93   \n",
       "\n",
       "  Country        Date  \n",
       "0      KI  1593605283  \n",
       "1      RU  1593605121  \n",
       "2      ZA  1593605039  \n",
       "3      CI  1593605284  \n",
       "4      US  1593605284  "
      ]
     },
     "execution_count": 19,
     "metadata": {},
     "output_type": "execute_result"
    }
   ],
   "source": [
    "# Make a new DataFrame equal to the city data to drop all humidity outliers by index.\n",
    "# Passing \"inplace=False\" will make a copy of the city_data DataFrame, which we call \"clean_city_data\".\n"
   ]
  },
  {
   "cell_type": "code",
   "execution_count": null,
   "metadata": {},
   "outputs": [],
   "source": [
    "\n"
   ]
  },
  {
   "cell_type": "markdown",
   "metadata": {},
   "source": [
    "## Plotting the Data\n",
    "* Use proper labeling of the plots using plot titles (including date of analysis) and axes labels.\n",
    "* Save the plotted figures as .pngs."
   ]
  },
  {
   "cell_type": "markdown",
   "metadata": {},
   "source": [
    "## Latitude vs. Temperature Plot"
   ]
  },
  {
   "cell_type": "code",
   "execution_count": 42,
   "metadata": {
    "scrolled": true
   },
   "outputs": [
    {
     "data": {
      "image/png": "[encoded data removed]",
      "text/plain": [
       "<Figure size 432x288 with 1 Axes>"
      ]
     },
     "metadata": {
      "needs_background": "light"
     },
     "output_type": "display_data"
    }
   ],
   "source": [
    "# Build a scatter plot for latitude vs. temperature \n",
    "plt.scatter(weather_df['Latitude'], weather_df['Max Temp'], marker=\"o\")\n",
    "\n",
    "# Label axes and title and format time\n",
    "plt.title(\"City Latitude vs. Max Temperature (%s)\" % time.strftime(\"%x\"))\n",
    "plt.ylabel(\"Max Temperature (F)\")\n",
    "plt.xlabel(\"Latitude\")\n",
    "plt.grid(True)\n",
    "\n",
    "# Save the figure\n",
    "#plt.savefig(\"TemperatureInWorldCities.png\")\n",
    "\n",
    "# Show plot\n",
    "plt.show()"
   ]
  },
  {
   "cell_type": "markdown",
   "metadata": {},
   "source": [
    "## Latitude vs. Humidity Plot"
   ]
  },
  {
   "cell_type": "code",
   "execution_count": 41,
   "metadata": {},
   "outputs": [
    {
     "data": {
      "image/png": "[encoded data removed]",
      "text/plain": [
       "<Figure size 432x288 with 1 Axes>"
      ]
     },
     "metadata": {
      "needs_background": "light"
     },
     "output_type": "display_data"
    }
   ],
   "source": [
    "# Build a scatter plot for each data type\n",
    "plt.scatter(weather_df[\"Latitude\"], weather_df[\"Humidity\"], marker=\"o\")\n",
    "\n",
    "# Incorporate the other graph properties\n",
    "plt.title(\"City Latitude vs Humidity(%s)\" % time.strftime(\"%x\"))\n",
    "plt.ylabel(\"Humidity\")\n",
    "plt.xlabel(\"Latitude\")\n",
    "plt.grid(True)\n",
    "\n",
    "# Save the figure\n",
    "#plt.savefig(\"TemperatureInWorldCities.png\")\n",
    "\n",
    "# Show plot\n",
    "plt.show()"
   ]
  },
  {
   "cell_type": "markdown",
   "metadata": {},
   "source": [
    "## Latitude vs. Cloudiness Plot"
   ]
  },
  {
   "cell_type": "code",
   "execution_count": 40,
   "metadata": {},
   "outputs": [
    {
     "data": {
      "image/png": "[encoded data removed]",
      "text/plain": [
       "<Figure size 432x288 with 1 Axes>"
      ]
     },
     "metadata": {
      "needs_background": "light"
     },
     "output_type": "display_data"
    }
   ],
   "source": [
    "# Build a scatter plot for each data type\n",
    "plt.scatter(weather_df[\"Latitude\"], weather_df[\"Cloudiness\"], marker=\"o\")\n",
    "\n",
    "# Incorporate the other graph properties\n",
    "plt.title(\"City Latitude vs. Cloudiness (%s)\" % time.strftime(\"%x\"))\n",
    "plt.ylabel(\"Cloudiness %\")\n",
    "plt.xlabel(\"Latitude\")\n",
    "plt.grid(True)\n",
    "\n",
    "# Save the figure\n",
    "#plt.savefig(\"TemperatureInWorldCities.png\")\n",
    "\n",
    "# Show plot\n",
    "plt.show()"
   ]
  },
  {
   "cell_type": "markdown",
   "metadata": {},
   "source": [
    "## Latitude vs. Wind Speed Plot"
   ]
  },
  {
   "cell_type": "code",
   "execution_count": 44,
   "metadata": {},
   "outputs": [
    {
     "data": {
      "image/png": "[encoded data removed]",
      "text/plain": [
       "<Figure size 432x288 with 1 Axes>"
      ]
     },
     "metadata": {
      "needs_background": "light"
     },
     "output_type": "display_data"
    }
   ],
   "source": [
    "# Build a scatter plot for each data type\n",
    "plt.scatter(weather_df[\"Latitude\"], weather_df[\"Wind Speed\"], marker=\"o\")\n",
    "\n",
    "# Incorporate the other graph properties\n",
    "plt.title(\"City Latitude vs. Wind Speed(%s)\" % time.strftime(\"%x\"))\n",
    "plt.ylabel(\"Wind Speed (mph)\")\n",
    "plt.xlabel(\"Latitude\")\n",
    "plt.grid(True)\n",
    "\n",
    "# Save the figure\n",
    "#plt.savefig(\"TemperatureInWorldCities.png\")\n",
    "\n",
    "# Show plot\n",
    "plt.show()"
   ]
  },
  {
   "cell_type": "markdown",
   "metadata": {},
   "source": [
    "## Linear Regression"
   ]
  },
  {
   "cell_type": "code",
   "execution_count": 24,
   "metadata": {},
   "outputs": [],
   "source": [
    "# Split the data into Northern (lat >==0) and Southern Hemispheres (lat < 0)\n",
    "\n",
    "northern_df = weather_df.loc[(weather_df[\"Latitude\"]>=0)]\n",
    "southern_df = weather_df.loc[(weather_df[\"Latitude\"]<0)]\n"
   ]
  },
  {
   "cell_type": "code",
   "execution_count": null,
   "metadata": {},
   "outputs": [],
   "source": [
    "northern_df.count()"
   ]
  },
  {
   "cell_type": "code",
   "execution_count": null,
   "metadata": {},
   "outputs": [],
   "source": [
    "southern_df.count()"
   ]
  },
  {
   "cell_type": "code",
   "execution_count": null,
   "metadata": {},
   "outputs": [],
   "source": [
    "# Define the linear regression function along with the scatter plot for each graph\n",
    "\n",
    "def line_regr(x_values, y_values, yaxis):\n",
    "\n",
    "    (slope, intercept, rvalue, pvalue, stderr) = stats.linregress(x_values, y_values)\n",
    "    regress_values = slope * x_values + intercept\n",
    "    line_eq = \"y = \" + str(round(slope,2)) + \"x + \" + str(round(intercept,2))\n",
    "    correlation = st.pearsonr(x_values, y_values)\n",
    "\n",
    "    # Scatter Plots    \n",
    "    plt.scatter(x_values,y_values)\n",
    "    plt.plot(x_values,regress_values, color = \"red\")\n",
    "    plt.xlabel('Latitude')\n",
    "    plt.ylabel(yaxis)\n",
    "    plt.annotate(line_eq)\n",
    "    print(f\"The correlation coefficient is {round(correlation[0],2)}\")\n",
    "    plt.show()\n"
   ]
  },
  {
   "cell_type": "markdown",
   "metadata": {},
   "source": [
    "####  Northern Hemisphere - Max Temp vs. Latitude Linear Regression"
   ]
  },
  {
   "cell_type": "code",
   "execution_count": 25,
   "metadata": {},
   "outputs": [
    {
     "name": "stdout",
     "output_type": "stream",
     "text": [
      "The r-value is: 0.46937863826630627\n"
     ]
    },
    {
     "data": {
      "image/png": "[encoded data removed]",
      "text/plain": [
       "<Figure size 432x288 with 1 Axes>"
      ]
     },
     "metadata": {
      "needs_background": "light"
     },
     "output_type": "display_data"
    }
   ],
   "source": [
    "# Call regression function for Northern Hemisphere - max temp vs. latitude\n",
    "\n",
    "x_values = northern_df['Latitude']\n",
    "y_values = northern_df['Max Temp']\n",
    "line_regr(x,y,'Max Temperature (F)')\n",
    "\n",
    "#plt.savefig(\"NH_temp_vs_lat.png\")\n",
    "\n",
    "#print(f\"The regression equation is {line_eq}\")\n",
    "\n"
   ]
  },
  {
   "cell_type": "markdown",
   "metadata": {},
   "source": [
    "####  Southern Hemisphere - Max Temp vs. Latitude Linear Regression"
   ]
  },
  {
   "cell_type": "code",
   "execution_count": 26,
   "metadata": {},
   "outputs": [
    {
     "name": "stdout",
     "output_type": "stream",
     "text": [
      "The r-value is: 0.6082708688906918\n"
     ]
    },
    {
     "data": {
      "image/png": "[encoded data removed]",
      "text/plain": [
       "<Figure size 432x288 with 1 Axes>"
      ]
     },
     "metadata": {
      "needs_background": "light"
     },
     "output_type": "display_data"
    }
   ],
   "source": [
    "# Call regression function for Southern Hemisphere - max temp vs. latitude\n",
    "\n",
    "x_values = southern_df['Latitude']\n",
    "y_values = southern_df['Max Temp']\n",
    "line_regr(x,y,'Max Temperature (F)')\n",
    "\n",
    "#plt.savefig(\"SH_temp_vs_lat.png\")\n"
   ]
  },
  {
   "cell_type": "markdown",
   "metadata": {},
   "source": [
    "####  Northern Hemisphere - Humidity (%) vs. Latitude Linear Regression"
   ]
  },
  {
   "cell_type": "code",
   "execution_count": 27,
   "metadata": {},
   "outputs": [
    {
     "name": "stdout",
     "output_type": "stream",
     "text": [
      "The r-value is: 0.000543987878808455\n"
     ]
    },
    {
     "data": {
      "image/png": "[encoded data removed]",
      "text/plain": [
       "<Figure size 432x288 with 1 Axes>"
      ]
     },
     "metadata": {
      "needs_background": "light"
     },
     "output_type": "display_data"
    }
   ],
   "source": [
    "# Call regression function for Northern Hemisphere - humidity vs. latitude\n",
    "\n",
    "x_values = northern_df['Latitude']\n",
    "y_values = northern_df['Humidity']\n",
    "line_regr(x,y,'Humidity %')\n",
    "\n",
    "#plt.savefig(\"NH_humidity_vs_lat.png\")\n"
   ]
  },
  {
   "cell_type": "markdown",
   "metadata": {},
   "source": [
    "####  Southern Hemisphere - Humidity (%) vs. Latitude Linear Regression"
   ]
  },
  {
   "cell_type": "code",
   "execution_count": 28,
   "metadata": {},
   "outputs": [
    {
     "name": "stdout",
     "output_type": "stream",
     "text": [
      "The r-value is: 0.014985174297345524\n"
     ]
    },
    {
     "data": {
      "image/png": "[encoded data removed]",
      "text/plain": [
       "<Figure size 432x288 with 1 Axes>"
      ]
     },
     "metadata": {
      "needs_background": "light"
     },
     "output_type": "display_data"
    }
   ],
   "source": [
    "# Call regression function for Southern Hemisphere - humidity vs. latitude\n",
    "\n",
    "x_values = southern_df['Latitude']\n",
    "y_values = southern_df['Humidity']\n",
    "line_regr(x,y,'Humidity %')\n",
    "\n",
    "#plt.savefig(\"SH_humidity_vs_lat.png\")\n"
   ]
  },
  {
   "cell_type": "markdown",
   "metadata": {},
   "source": [
    "####  Northern Hemisphere - Cloudiness (%) vs. Latitude Linear Regression"
   ]
  },
  {
   "cell_type": "code",
   "execution_count": 29,
   "metadata": {},
   "outputs": [
    {
     "name": "stdout",
     "output_type": "stream",
     "text": [
      "The r-value is: 0.0020898727664228514\n"
     ]
    },
    {
     "data": {
      "image/png": "[encoded data removed]",
      "text/plain": [
       "<Figure size 432x288 with 1 Axes>"
      ]
     },
     "metadata": {
      "needs_background": "light"
     },
     "output_type": "display_data"
    }
   ],
   "source": [
    "# Call regression function for Northern Hemisphere - cloudiness vs. latitude\n",
    "\n",
    "x_values = northern_df['Latitude']\n",
    "y_values = northern_df['Cloudiness']\n",
    "line_regr(x,y,'Cloudiness')\n",
    "\n",
    "#plt.savefig(\"NH_clouds_vs_lat.png\")\n"
   ]
  },
  {
   "cell_type": "markdown",
   "metadata": {},
   "source": [
    "####  Southern Hemisphere - Cloudiness (%) vs. Latitude Linear Regression"
   ]
  },
  {
   "cell_type": "code",
   "execution_count": 30,
   "metadata": {},
   "outputs": [
    {
     "name": "stdout",
     "output_type": "stream",
     "text": [
      "The r-value is: 0.0035263772085582894\n"
     ]
    },
    {
     "data": {
      "image/png": "[encoded data removed]",
      "text/plain": [
       "<Figure size 432x288 with 1 Axes>"
      ]
     },
     "metadata": {
      "needs_background": "light"
     },
     "output_type": "display_data"
    }
   ],
   "source": [
    "# Call regression function for Southern Hemisphere - cloudiness vs. latitude\n",
    "\n",
    "x_values = southern_df['Latitude']\n",
    "y_values = southern_df['Cloudiness']\n",
    "line_regr(x,y,'Cloudiness')\n",
    "\n",
    "#plt.savefig(\"SH_clouds_vs_lat.png\")\n"
   ]
  },
  {
   "cell_type": "markdown",
   "metadata": {},
   "source": [
    "####  Northern Hemisphere - Wind Speed (mph) vs. Latitude Linear Regression"
   ]
  },
  {
   "cell_type": "code",
   "execution_count": 31,
   "metadata": {},
   "outputs": [
    {
     "name": "stdout",
     "output_type": "stream",
     "text": [
      "The r-value is: 0.04019723576144484\n"
     ]
    },
    {
     "data": {
      "image/png": "[encoded data removed]",
      "text/plain": [
       "<Figure size 432x288 with 1 Axes>"
      ]
     },
     "metadata": {
      "needs_background": "light"
     },
     "output_type": "display_data"
    }
   ],
   "source": [
    "# Call regression function for Northern Hemisphere - wind speed vs. latitude\n",
    "\n",
    "x_values = northern_df['Latitude']\n",
    "y_values = northern_df['Wind Speed']\n",
    "line_regr(x,y,'Wind Speed')\n",
    "\n",
    "#plt.savefig(\"NH_windspeed_vs_lat.png\")\n"
   ]
  },
  {
   "cell_type": "markdown",
   "metadata": {},
   "source": [
    "####  Southern Hemisphere - Wind Speed (mph) vs. Latitude Linear Regression"
   ]
  },
  {
   "cell_type": "code",
   "execution_count": 32,
   "metadata": {},
   "outputs": [
    {
     "name": "stdout",
     "output_type": "stream",
     "text": [
      "The r-value is: 0.017128274759839232\n"
     ]
    },
    {
     "data": {
      "image/png": "[encoded data removed]",
      "text/plain": [
       "<Figure size 432x288 with 1 Axes>"
      ]
     },
     "metadata": {
      "needs_background": "light"
     },
     "output_type": "display_data"
    }
   ],
   "source": [
    "# Call regression function for Southern Hemisphere - wind speed vs. latitude\n",
    "\n",
    "x_values = southern_df['Latitude']\n",
    "y_values = southern_df['Wind Speed']\n",
    "line_regr(x,y,'Wind Speed')\n",
    "\n",
    "#plt.savefig(\"SH_windspeed_vs_lat.png\")\n"
   ]
  },
  {
   "cell_type": "code",
   "execution_count": null,
   "metadata": {},
   "outputs": [],
   "source": []
  }
 ],
 "metadata": {
  "anaconda-cloud": {},
  "kernel_info": {
   "name": "python3"
  },
  "kernelspec": {
   "display_name": "Python 3 (ipykernel)",
   "language": "python",
   "name": "python3"
  },
  "language_info": {
   "codemirror_mode": {
    "name": "ipython",
    "version": 3
   },
   "file_extension": ".py",
   "mimetype": "text/x-python",
   "name": "python",
   "nbconvert_exporter": "python",
   "pygments_lexer": "ipython3",
   "version": "3.9.7"
  },
  "latex_envs": {
   "LaTeX_envs_menu_present": true,
   "autoclose": false,
   "autocomplete": true,
   "bibliofile": "biblio.bib",
   "cite_by": "apalike",
   "current_citInitial": 1,
   "eqLabelWithNumbers": true,
   "eqNumInitial": 1,
   "hotkeys": {
    "equation": "Ctrl-E",
    "itemize": "Ctrl-I"
   },
   "labels_anchors": false,
   "latex_user_defs": false,
   "report_style_numbering": false,
   "user_envs_cfg": false
  },
  "nteract": {
   "version": "0.12.3"
  }
 },
 "nbformat": 4,
 "nbformat_minor": 2
}
