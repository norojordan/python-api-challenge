{
 "cells": [
  {
   "cell_type": "markdown",
   "metadata": {},
   "source": [
    "# WeatherPy\n",
    "----\n",
    "\n",
    "#### Note\n",
    "* Instructions have been included for each segment. You do not have to follow them exactly, but they are included to help you think through the steps."
   ]
  },
  {
   "cell_type": "code",
   "execution_count": 44,
   "metadata": {
    "scrolled": true
   },
   "outputs": [],
   "source": [
    "# Dependencies and Setup\n",
    "import matplotlib.pyplot as plt\n",
    "import pandas as pd\n",
    "import numpy as np\n",
    "import requests\n",
    "import time\n",
    "from scipy.stats import linregress\n",
    "\n",
    "# Import API key\n",
    "\n",
    "from api_keys import api_key\n",
    "\n",
    "# Incorporated citipy to determine city based on latitude and longitude (Python library)\n",
    "from citipy import citipy\n",
    "\n",
    "# Output File (CSV)\n",
    "output_data_file = \"output_data/cities.csv\"\n",
    "\n",
    "# Range of latitudes and longitudes\n",
    "lat_range = (-90, 90)\n",
    "lng_range = (-180, 180)"
   ]
  },
  {
   "cell_type": "markdown",
   "metadata": {},
   "source": [
    "## Generate Cities List"
   ]
  },
  {
   "cell_type": "code",
   "execution_count": 6,
   "metadata": {},
   "outputs": [
    {
     "name": "stdout",
     "output_type": "stream",
     "text": [
      "Collecting citipy\n",
      "  Downloading citipy-0.0.5.tar.gz (557 kB)\n",
      "\u001b[K     |████████████████████████████████| 557 kB 4.0 MB/s eta 0:00:01\n",
      "\u001b[?25hCollecting kdtree>=0.12\n",
      "  Downloading kdtree-0.16-py2.py3-none-any.whl (7.7 kB)\n",
      "Building wheels for collected packages: citipy\n",
      "  Building wheel for citipy (setup.py) ... \u001b[?25ldone\n",
      "\u001b[?25h  Created wheel for citipy: filename=citipy-0.0.5-py3-none-any.whl size=559700 sha256=5510be2b79a2e6268607129c7d18482b488b45b8ddb522cb8ddbc8b8c1130f5c\n",
      "  Stored in directory: /Users/noreenjordan/Library/Caches/pip/wheels/d9/dd/68/8cc0be16282b0fcae5acb7280b47d31952f203c401923a8c1e\n",
      "Successfully built citipy\n",
      "Installing collected packages: kdtree, citipy\n",
      "Successfully installed citipy-0.0.5 kdtree-0.16\n",
      "Note: you may need to restart the kernel to use updated packages.\n"
     ]
    }
   ],
   "source": [
    "#pip install citipy"
   ]
  },
  {
   "cell_type": "code",
   "execution_count": 45,
   "metadata": {},
   "outputs": [
    {
     "data": {
      "text/plain": [
       "583"
      ]
     },
     "execution_count": 45,
     "metadata": {},
     "output_type": "execute_result"
    }
   ],
   "source": [
    "# List for holding lat_lngs and cities\n",
    "lat_lngs = []\n",
    "cities = []\n",
    "\n",
    "# Create a set of random lat and lng combinations\n",
    "lats = np.random.uniform(lat_range[0], lat_range[1], size=1500)\n",
    "lngs = np.random.uniform(lng_range[0], lng_range[1], size=1500)\n",
    "lat_lngs = zip(lats, lngs)\n",
    "\n",
    "# Identify nearest city for each lat, lng combination\n",
    "for lat_lng in lat_lngs:\n",
    "    city = citipy.nearest_city(lat_lng[0], lat_lng[1]).city_name\n",
    "    \n",
    "    # If the city is unique, then add it to a our cities list\n",
    "    if city not in cities:\n",
    "        cities.append(city)\n",
    "\n",
    "# Print the city count to confirm sufficient count\n",
    "len(cities)"
   ]
  },
  {
   "cell_type": "markdown",
   "metadata": {},
   "source": [
    "### Perform API Calls\n",
    "* Perform a weather check on each city using a series of successive API calls.\n",
    "* Include a print log of each city as it'sbeing processed (with the city number and city name).\n",
    "\n",
    "> **HINT:** The OpenWeatherMap API only allows 60 calls per minute under their free plan. Try using `time.sleep(60)` after each set of 50 cities to avoid API errors due to large calls."
   ]
  },
  {
   "cell_type": "code",
   "execution_count": 46,
   "metadata": {},
   "outputs": [],
   "source": [
    "# Save config information.\n",
    "url = \"http://api.openweathermap.org/data/2.5/weather?\"\n",
    "units = \"imperial\"\n",
    "\n",
    "# Build partial query URL\n",
    "query_url = f\"{url}appid={api_key}&units={units}&q=\""
   ]
  },
  {
   "cell_type": "code",
   "execution_count": 47,
   "metadata": {},
   "outputs": [
    {
     "name": "stdout",
     "output_type": "stream",
     "text": [
      "The weather API responded with: {'coord': {'lon': 150.8552, 'lat': -34.5833}, 'weather': [{'id': 501, 'main': 'Rain', 'description': 'moderate rain', 'icon': '10d'}], 'base': 'stations', 'main': {'temp': 79.92, 'feels_like': 79.92, 'temp_min': 74.8, 'temp_max': 86.81, 'pressure': 1009, 'humidity': 72}, 'visibility': 10000, 'wind': {'speed': 5.01, 'deg': 260, 'gust': 8.99}, 'rain': {'1h': 2.37}, 'clouds': {'all': 80}, 'dt': 1643433689, 'sys': {'type': 2, 'id': 2033627, 'country': 'AU', 'sunrise': 1643397191, 'sunset': 1643447149}, 'timezone': 39600, 'id': 6255012, 'name': 'Flinders', 'cod': 200}.\n"
     ]
    }
   ],
   "source": [
    "# Get weather data and check out the necessry keywords for the queries\n",
    "response = requests.get(query_url + city).json()\n",
    "\n",
    "print(f\"The weather API responded with: {response}.\")"
   ]
  },
  {
   "cell_type": "code",
   "execution_count": 48,
   "metadata": {
    "scrolled": true
   },
   "outputs": [
    {
     "name": "stdout",
     "output_type": "stream",
     "text": [
      "City NOT found. Skip illoqqortoormiut\n",
      "Processing city: oranjemund\n",
      "Processing city: chojnow\n",
      "Processing city: busselton\n",
      "Processing city: punta arenas\n",
      "Processing city: vila franca do campo\n",
      "Processing city: kruisfontein\n",
      "Processing city: vao\n",
      "City NOT found. Skip mys shmidta\n",
      "Processing city: takoradi\n",
      "Processing city: kaitangata\n",
      "Processing city: saskylakh\n",
      "Processing city: mataura\n",
      "Processing city: souillac\n",
      "Processing city: albany\n",
      "City NOT found. Skip sentyabrskiy\n",
      "Processing city: kutum\n",
      "Processing city: sidhi\n",
      "Processing city: hithadhoo\n",
      "Processing city: qaanaaq\n",
      "Processing city: castro\n",
      "Processing city: saint-philippe\n",
      "Processing city: chimore\n",
      "Processing city: ponta do sol\n",
      "Processing city: cabo rojo\n",
      "Processing city: sungaipenuh\n",
      "Processing city: tasiilaq\n",
      "Processing city: jamestown\n",
      "Processing city: te anau\n",
      "Processing city: butaritari\n",
      "Processing city: rikitea\n",
      "Processing city: vicuna\n",
      "Processing city: dikson\n",
      "Processing city: nadym\n",
      "Processing city: pevek\n",
      "Processing city: hamilton\n",
      "Processing city: andenes\n",
      "Processing city: yulara\n",
      "Processing city: east london\n",
      "Processing city: hilo\n",
      "Processing city: ushuaia\n",
      "Processing city: esperance\n",
      "Processing city: atuona\n",
      "Processing city: hirado\n",
      "Processing city: bilibino\n",
      "Processing city: hobart\n",
      "Processing city: mbale\n",
      "Processing city: mar del plata\n",
      "Processing city: constitucion\n",
      "Processing city: sussex\n",
      "Processing city: diamantina\n",
      "Processing city: lavrentiya\n",
      "Processing city: ixtapa\n",
      "Processing city: trincomalee\n",
      "Processing city: broome\n",
      "Processing city: calama\n",
      "Processing city: antalaha\n",
      "Processing city: walvis bay\n",
      "Processing city: chokurdakh\n",
      "City NOT found. Skip tsihombe\n",
      "Processing city: kapaa\n",
      "Processing city: ust-tsilma\n",
      "Processing city: puerto ayora\n",
      "Processing city: dauriya\n",
      "Processing city: provideniya\n",
      "Processing city: bambanglipuro\n",
      "Processing city: dwarka\n",
      "Processing city: bredasdorp\n",
      "Processing city: bluff\n",
      "Processing city: biak\n",
      "City NOT found. Skip rungata\n",
      "Processing city: mahebourg\n",
      "Processing city: cajamarca\n",
      "Processing city: machico\n",
      "Processing city: tautira\n",
      "Processing city: cidreira\n",
      "Processing city: cherskiy\n",
      "Processing city: kloulklubed\n",
      "Processing city: alice springs\n",
      "Processing city: tiksi\n",
      "Processing city: zambezi\n",
      "City NOT found. Skip amderma\n",
      "Processing city: daru\n",
      "Processing city: nizhneangarsk\n",
      "Processing city: avarua\n",
      "Processing city: port elizabeth\n",
      "Processing city: boca do acre\n",
      "Processing city: itarema\n",
      "Processing city: yellowknife\n",
      "Processing city: georgetown\n",
      "Processing city: ocos\n",
      "Processing city: sur\n",
      "City NOT found. Skip warqla\n",
      "Processing city: at-bashi\n",
      "Processing city: tuktoyaktuk\n",
      "Processing city: fairbanks\n",
      "Processing city: lompoc\n",
      "Processing city: iraucuba\n",
      "City NOT found. Skip attawapiskat\n",
      "Processing city: polyarnyye zori\n",
      "Processing city: faanui\n",
      "Processing city: palmer\n",
      "Processing city: arraial do cabo\n",
      "Processing city: hermanus\n",
      "Processing city: saldanha\n",
      "Processing city: maniitsoq\n",
      "Processing city: baiao\n",
      "Processing city: fortuna\n",
      "Processing city: sarangani\n",
      "Processing city: tuatapere\n",
      "Processing city: komsomolskiy\n",
      "Processing city: ellensburg\n",
      "Processing city: talara\n",
      "Processing city: vaini\n",
      "Processing city: thompson\n",
      "Processing city: simoes\n",
      "Processing city: cayenne\n",
      "Processing city: ancud\n",
      "Processing city: galle\n",
      "Processing city: carnarvon\n",
      "Processing city: klaksvik\n",
      "Processing city: lovozero\n",
      "Processing city: ballina\n",
      "Processing city: norman wells\n",
      "City NOT found. Skip barentsburg\n",
      "Processing city: upernavik\n",
      "Processing city: nanpiao\n",
      "Processing city: sola\n",
      "Processing city: san patricio\n",
      "Processing city: aras\n",
      "Processing city: haines junction\n",
      "Processing city: isla aguada\n",
      "Processing city: luganville\n",
      "Processing city: suez\n",
      "Processing city: vanimo\n",
      "City NOT found. Skip mentok\n",
      "Processing city: torbay\n",
      "Processing city: muzhi\n",
      "Processing city: severo-yeniseyskiy\n",
      "City NOT found. Skip saleaula\n",
      "Processing city: ambatofinandrahana\n",
      "Processing city: agadir\n",
      "Processing city: glamoc\n",
      "Processing city: sitka\n",
      "Processing city: oriximina\n",
      "Processing city: santa rosa\n",
      "Processing city: magaria\n",
      "Processing city: barrow\n",
      "Processing city: miles city\n",
      "City NOT found. Skip bokspits\n",
      "Processing city: puurmani\n",
      "City NOT found. Skip samusu\n",
      "Processing city: chuy\n",
      "Processing city: sadao\n",
      "Processing city: new norfolk\n",
      "City NOT found. Skip grand river south east\n",
      "Processing city: longyearbyen\n",
      "Processing city: ardakan\n",
      "Processing city: pisco\n",
      "Processing city: isangel\n",
      "Processing city: morar\n",
      "Processing city: khatanga\n",
      "City NOT found. Skip lolua\n",
      "Processing city: la rochelle\n",
      "Processing city: bosaso\n",
      "Processing city: sao filipe\n",
      "Processing city: badami\n",
      "Processing city: salalah\n",
      "Processing city: iberia\n",
      "Processing city: kirchhain\n",
      "Processing city: port alfred\n",
      "Processing city: saint george\n",
      "Processing city: estelle\n",
      "Processing city: mollendo\n",
      "Processing city: simao\n",
      "Processing city: college\n",
      "Processing city: loukhi\n",
      "Processing city: pitimbu\n",
      "Processing city: akureyri\n",
      "Processing city: iqaluit\n",
      "Processing city: frontera\n",
      "Processing city: ndele\n",
      "Processing city: dire dawa\n",
      "Processing city: tigil\n",
      "Processing city: encarnacion\n",
      "Processing city: phuntsholing\n",
      "Processing city: tripoli\n",
      "Processing city: grindavik\n",
      "Processing city: victoria\n",
      "Processing city: san carlos de bariloche\n",
      "City NOT found. Skip belushya guba\n",
      "Processing city: tilichiki\n",
      "Processing city: geraldton\n",
      "Processing city: bumba\n",
      "Processing city: evensk\n",
      "Processing city: hasaki\n",
      "Processing city: nome\n",
      "City NOT found. Skip taolanaro\n",
      "Processing city: cabo san lucas\n",
      "Processing city: freeport\n",
      "Processing city: manzanillo\n",
      "Processing city: remanso\n",
      "Processing city: yeppoon\n",
      "Processing city: nizhneudinsk\n",
      "Processing city: beringovskiy\n",
      "Processing city: narsaq\n",
      "Processing city: srednekolymsk\n",
      "Processing city: pointe michel\n",
      "Processing city: husavik\n",
      "Processing city: avera\n",
      "Processing city: katsuura\n",
      "Processing city: harper\n",
      "Processing city: barabinsk\n",
      "Processing city: wobulenzi\n",
      "Processing city: waitara\n",
      "Processing city: fallon\n",
      "Processing city: beaverlodge\n",
      "Processing city: khurda\n",
      "Processing city: powassan\n",
      "Processing city: mocuba\n",
      "Processing city: sao joao da barra\n",
      "Processing city: aklavik\n",
      "Processing city: rio gallegos\n",
      "Processing city: castleford\n",
      "Processing city: lagoa\n",
      "Processing city: leiyang\n",
      "Processing city: hojo\n",
      "Processing city: san juan\n",
      "Processing city: kama\n",
      "Processing city: mogadishu\n",
      "Processing city: maicao\n",
      "Processing city: aksu\n",
      "City NOT found. Skip cagayan de tawi-tawi\n",
      "Processing city: batemans bay\n",
      "Processing city: mancio lima\n",
      "Processing city: moerai\n",
      "Processing city: dongzhen\n",
      "Processing city: kodiak\n",
      "Processing city: rawson\n",
      "Processing city: sarai\n",
      "Processing city: zhigansk\n",
      "Processing city: leningradskiy\n",
      "Processing city: kingsville\n",
      "Processing city: hualmay\n",
      "Processing city: cody\n",
      "Processing city: bilma\n",
      "Processing city: camacha\n",
      "Processing city: bathsheba\n",
      "Processing city: ahipara\n",
      "Processing city: skjervoy\n",
      "Processing city: masallatah\n",
      "Processing city: ribeira grande\n",
      "Processing city: lebu\n",
      "Processing city: vardo\n",
      "Processing city: bentiu\n",
      "Processing city: peniche\n",
      "Processing city: caernarfon\n",
      "Processing city: luderitz\n",
      "Processing city: redmond\n",
      "Processing city: rabat\n",
      "Processing city: mporokoso\n",
      "Processing city: lorengau\n",
      "Processing city: kangalassy\n",
      "City NOT found. Skip nizhneyansk\n",
      "Processing city: pietarsaari\n",
      "Processing city: taraz\n",
      "Processing city: airai\n",
      "Processing city: brownsville\n",
      "Processing city: joensuu\n",
      "Processing city: kuandian\n",
      "Processing city: eirunepe\n",
      "Processing city: hami\n",
      "Processing city: sijunjung\n",
      "Processing city: dalnerechensk\n",
      "Processing city: kenai\n",
      "Processing city: kavieng\n",
      "Processing city: cape town\n",
      "Processing city: soyo\n",
      "City NOT found. Skip temaraia\n",
      "Processing city: oskarshamn\n",
      "Processing city: kindersley\n",
      "Processing city: aracataca\n",
      "Processing city: yining\n",
      "Processing city: coihaique\n",
      "Processing city: krasnoselkup\n",
      "Processing city: yangambi\n",
      "Processing city: yumen\n",
      "Processing city: yamada\n",
      "Processing city: kautokeino\n",
      "Processing city: awbari\n",
      "Processing city: anaco\n",
      "Processing city: dunedin\n",
      "Processing city: nikolskoye\n",
      "Processing city: coquimbo\n",
      "Processing city: puerto del rosario\n",
      "Processing city: aitape\n",
      "Processing city: soavinandriana\n",
      "Processing city: najran\n",
      "Processing city: tura\n",
      "Processing city: sulangan\n",
      "Processing city: adrar\n",
      "Processing city: ormara\n",
      "Processing city: olinda\n",
      "Processing city: okhotsk\n",
      "Processing city: altay\n",
      "Processing city: lichinga\n",
      "Processing city: hambantota\n",
      "Processing city: graaff-reinet\n",
      "Processing city: wuda\n"
     ]
    },
    {
     "name": "stdout",
     "output_type": "stream",
     "text": [
      "Processing city: codrington\n",
      "Processing city: mana\n",
      "Processing city: marsh harbour\n",
      "Processing city: khao yoi\n",
      "Processing city: clyde river\n",
      "Processing city: healesville\n",
      "Processing city: barcelos\n",
      "Processing city: kahului\n",
      "Processing city: thinadhoo\n",
      "Processing city: madras\n",
      "Processing city: polewali\n",
      "Processing city: bethel\n",
      "City NOT found. Skip sorvag\n",
      "Processing city: alofi\n",
      "Processing city: kieta\n",
      "Processing city: muros\n",
      "Processing city: murud\n",
      "Processing city: buala\n",
      "Processing city: port lincoln\n",
      "Processing city: chapais\n",
      "Processing city: onguday\n",
      "City NOT found. Skip hihifo\n",
      "Processing city: chumikan\n",
      "Processing city: nanguneri\n",
      "Processing city: sandwick\n",
      "Processing city: mount isa\n",
      "Processing city: roald\n",
      "Processing city: paamiut\n",
      "Processing city: tigzirt\n",
      "Processing city: vestmanna\n",
      "Processing city: vila do maio\n",
      "Processing city: burgos\n",
      "Processing city: bambous virieux\n",
      "Processing city: kavaratti\n",
      "City NOT found. Skip marcona\n",
      "Processing city: ostrovnoy\n",
      "Processing city: storforshei\n",
      "Processing city: ilulissat\n",
      "Processing city: oussouye\n",
      "Processing city: bulawayo\n",
      "Processing city: rumonge\n",
      "Processing city: cap malheureux\n",
      "Processing city: atlantic beach\n",
      "Processing city: severo-kurilsk\n",
      "Processing city: woodward\n",
      "Processing city: bend\n",
      "Processing city: sorland\n",
      "Processing city: labuhan\n",
      "Processing city: tomatlan\n",
      "Processing city: athabasca\n",
      "Processing city: salym\n",
      "City NOT found. Skip kegayli\n",
      "Processing city: high prairie\n",
      "Processing city: pizhma\n",
      "Processing city: el doncello\n",
      "Processing city: poum\n",
      "Processing city: devils lake\n",
      "Processing city: varkkallai\n",
      "Processing city: tarko-sale\n",
      "Processing city: malanje\n",
      "Processing city: tutoia\n",
      "City NOT found. Skip uwayl\n",
      "Processing city: asadabad\n",
      "Processing city: christchurch\n",
      "Processing city: margate\n",
      "City NOT found. Skip mergui\n",
      "Processing city: manzhouli\n",
      "Processing city: san policarpo\n",
      "City NOT found. Skip utiroa\n",
      "Processing city: zhanaozen\n",
      "Processing city: tabuk\n",
      "Processing city: shakawe\n",
      "Processing city: pekin\n",
      "Processing city: xuddur\n",
      "Processing city: los llanos de aridane\n",
      "Processing city: nelson bay\n",
      "Processing city: mizusawa\n",
      "Processing city: kamogawa\n",
      "Processing city: aguimes\n",
      "Processing city: grajewo\n",
      "Processing city: sabha\n",
      "Processing city: marawi\n",
      "Processing city: cockburn town\n",
      "Processing city: tambun\n",
      "Processing city: hofn\n",
      "Processing city: half moon bay\n",
      "Processing city: casper\n",
      "Processing city: collie\n",
      "Processing city: richards bay\n",
      "City NOT found. Skip kroderen\n",
      "Processing city: bellegarde-sur-valserine\n",
      "Processing city: talnakh\n",
      "Processing city: vila velha\n",
      "Processing city: katobu\n",
      "City NOT found. Skip eskasem\n",
      "Processing city: sindi\n",
      "Processing city: atar\n",
      "Processing city: norrtalje\n",
      "Processing city: chipinge\n",
      "Processing city: bereslavka\n",
      "Processing city: svetlogorsk\n",
      "Processing city: storm lake\n",
      "Processing city: mabaruma\n",
      "Processing city: vostok\n",
      "Processing city: necochea\n",
      "Processing city: nanortalik\n",
      "Processing city: hvolsvollur\n",
      "Processing city: berlevag\n",
      "Processing city: guiratinga\n",
      "Processing city: huoqiu\n",
      "Processing city: kiomboi\n",
      "Processing city: karratha\n",
      "Processing city: riyadh\n",
      "Processing city: feijo\n",
      "Processing city: anadyr\n",
      "Processing city: charters towers\n",
      "Processing city: sao jose da coroa grande\n",
      "Processing city: kamenka\n",
      "Processing city: saint-denis\n",
      "Processing city: verkhnyaya inta\n",
      "Processing city: chanute\n",
      "Processing city: taywarah\n",
      "Processing city: bengkulu\n",
      "Processing city: shache\n",
      "Processing city: arrecife\n",
      "Processing city: roebourne\n",
      "Processing city: mount gambier\n",
      "Processing city: portland\n",
      "Processing city: yarada\n",
      "Processing city: tigre\n",
      "Processing city: tungor\n",
      "Processing city: cholet\n",
      "Processing city: antigonish\n",
      "Processing city: beyneu\n",
      "Processing city: opuwo\n",
      "Processing city: cap-aux-meules\n",
      "Processing city: englewood\n",
      "Processing city: curaca\n",
      "Processing city: tezu\n",
      "Processing city: maceio\n",
      "Processing city: independence\n",
      "Processing city: lincoln\n",
      "Processing city: bubaque\n",
      "Processing city: lata\n",
      "Processing city: verkhnedneprovskiy\n",
      "Processing city: asau\n",
      "Processing city: saint-gilles\n",
      "Processing city: caravelas\n",
      "City NOT found. Skip port-de-paix\n",
      "Processing city: belmonte\n",
      "Processing city: urshelskiy\n",
      "Processing city: nyurba\n",
      "Processing city: pangai\n",
      "Processing city: umm lajj\n",
      "Processing city: tazovskiy\n",
      "Processing city: ibiruba\n",
      "Processing city: muswellbrook\n",
      "Processing city: gualeguay\n",
      "Processing city: les cayes\n",
      "Processing city: corn island\n",
      "City NOT found. Skip dzhusaly\n",
      "Processing city: shimoda\n",
      "Processing city: jalu\n",
      "Processing city: byron bay\n",
      "Processing city: acarau\n",
      "Processing city: wanning\n",
      "Processing city: lufilufi\n",
      "Processing city: mumford\n",
      "Processing city: arlit\n",
      "Processing city: brigantine\n",
      "Processing city: zyryanka\n",
      "Processing city: port-cartier\n",
      "Processing city: lerwick\n",
      "Processing city: disna\n",
      "Processing city: nanakuli\n",
      "Processing city: pryozerne\n",
      "Processing city: dingle\n",
      "Processing city: viedma\n",
      "Processing city: rundu\n",
      "Processing city: esmeraldas\n",
      "Processing city: sechura\n",
      "Processing city: sterling\n",
      "City NOT found. Skip halalo\n",
      "Processing city: burnie\n",
      "Processing city: iskateley\n",
      "Processing city: manadhoo\n",
      "Processing city: jimenez\n",
      "City NOT found. Skip cam pha\n",
      "Processing city: moussoro\n",
      "City NOT found. Skip orkhomenos\n",
      "Processing city: taoudenni\n",
      "Processing city: ayan\n",
      "Processing city: trinidad\n",
      "Processing city: las vegas\n",
      "City NOT found. Skip palabuhanratu\n",
      "Processing city: fort morgan\n",
      "Processing city: dhidhdhoo\n",
      "Processing city: bardiyah\n",
      "Processing city: marsala\n",
      "Processing city: tobetsu\n",
      "Processing city: kuito\n",
      "Processing city: grand-santi\n",
      "Processing city: akyab\n",
      "Processing city: lafia\n",
      "Processing city: flinders\n",
      "Processing city: sulecin\n",
      "Processing city: puerto leguizamo\n",
      "Processing city: nouadhibou\n",
      "Processing city: la paz\n",
      "Processing city: farim\n",
      "Processing city: sibolga\n",
      "City NOT found. Skip sumbawa\n",
      "Processing city: bandarbeyla\n",
      "Processing city: praia\n",
      "Processing city: north bend\n",
      "Processing city: manitouwadge\n",
      "Processing city: garowe\n",
      "Processing city: ostersund\n",
      "City NOT found. Skip vaitupu\n",
      "Processing city: pasni\n",
      "City NOT found. Skip mrirt\n",
      "Processing city: sylva\n",
      "Processing city: oistins\n",
      "Processing city: coahuayana\n",
      "Processing city: pallasovka\n",
      "Processing city: uhlove\n",
      "City NOT found. Skip ust-kamchatsk\n",
      "Processing city: mandalgovi\n",
      "Processing city: kokopo\n",
      "Processing city: minab\n",
      "Processing city: sjenica\n",
      "Processing city: pokhara\n",
      "Processing city: santa maria\n",
      "Processing city: sakakah\n",
      "Processing city: tabou\n",
      "Processing city: sezana\n",
      "Processing city: gravdal\n",
      "Processing city: soure\n",
      "Processing city: novoagansk\n",
      "Processing city: huercal-overa\n",
      "City NOT found. Skip maloshuyka\n",
      "Processing city: sittingbourne\n",
      "Processing city: ulaangom\n",
      "Processing city: zhicheng\n",
      "Processing city: chuka\n",
      "Processing city: azare\n",
      "Processing city: hospet\n",
      "Processing city: kemijarvi\n",
      "Processing city: verkhnevilyuysk\n",
      "Processing city: moose factory\n",
      "Processing city: mersing\n",
      "Processing city: camapua\n",
      "Processing city: governador valadares\n",
      "Processing city: edmundston\n",
      "Processing city: plettenberg bay\n",
      "Processing city: naze\n",
      "Processing city: ahuimanu\n",
      "Processing city: zagora\n",
      "Processing city: mareeba\n",
      "City NOT found. Skip tabiauea\n",
      "Processing city: warwick\n",
      "Processing city: punta de bombon\n",
      "Processing city: kudahuvadhoo\n",
      "Processing city: broken hill\n",
      "City NOT found. Skip gumushane\n",
      "Processing city: tailai\n",
      "Processing city: mugur-aksy\n",
      "Processing city: central point\n",
      "Processing city: la cumbre\n",
      "Processing city: menongue\n",
      "Processing city: ust-uda\n",
      "Processing city: behshahr\n",
      "Processing city: berkakit\n",
      "Processing city: choma\n",
      "Data Retrieval Complete\n"
     ]
    }
   ],
   "source": [
    "# Build a list \n",
    "\n",
    "citylist = []\n",
    "lat = []\n",
    "lon = []\n",
    "temp = []\n",
    "humidity = []\n",
    "clouds = []\n",
    "wind_rate = []\n",
    "country = []\n",
    "date = []\n",
    "\n",
    "count = 0\n",
    "\n",
    "for city in cities:\n",
    "        try:\n",
    "            response = requests.get(query_url + city).json()\n",
    "            lat.append(response['coord']['lat'])\n",
    "            lon.append(response['coord']['lon'])\n",
    "            temp.append(response['main']['temp_max'])\n",
    "            humidity.append(response['main']['humidity'])\n",
    "            clouds.append(response['clouds']['all'])\n",
    "            wind_rate.append(response['wind']['speed'])\n",
    "            country.append(response[\"sys\"][\"country\"])\n",
    "            date.append(response['dt'])\n",
    "            citylist.append(city)\n",
    "            print(f\"Processing city: {city}\")\n",
    "        except:\n",
    "            print(f\"City NOT found. Skip {city}\")\n",
    "        count+=1\n",
    "        \n",
    "        # Add a one second interval between queries to stay within API query limits\n",
    "        time.sleep(1)\n",
    "\n",
    "print(f\"Data Retrieval Complete\")\n",
    "        \n",
    "        \n",
    "    "
   ]
  },
  {
   "cell_type": "markdown",
   "metadata": {},
   "source": [
    "### Convert Raw Data to DataFrame\n",
    "* Export the city data into a .csv.\n",
    "* Display the DataFrame"
   ]
  },
  {
   "cell_type": "code",
   "execution_count": 49,
   "metadata": {},
   "outputs": [
    {
     "data": {
      "text/html": [
       "<div>\n",
       "<style scoped>\n",
       "    .dataframe tbody tr th:only-of-type {\n",
       "        vertical-align: middle;\n",
       "    }\n",
       "\n",
       "    .dataframe tbody tr th {\n",
       "        vertical-align: top;\n",
       "    }\n",
       "\n",
       "    .dataframe thead th {\n",
       "        text-align: right;\n",
       "    }\n",
       "</style>\n",
       "<table border=\"1\" class=\"dataframe\">\n",
       "  <thead>\n",
       "    <tr style=\"text-align: right;\">\n",
       "      <th></th>\n",
       "      <th>City</th>\n",
       "      <th>Country</th>\n",
       "      <th>Max Temp</th>\n",
       "      <th>Humidity</th>\n",
       "      <th>Cloudiness</th>\n",
       "      <th>Wind Speed</th>\n",
       "      <th>Latitude</th>\n",
       "      <th>Longitude</th>\n",
       "      <th>Date</th>\n",
       "    </tr>\n",
       "  </thead>\n",
       "  <tbody>\n",
       "    <tr>\n",
       "      <th>0</th>\n",
       "      <td>oranjemund</td>\n",
       "      <td>NA</td>\n",
       "      <td>62.67</td>\n",
       "      <td>92</td>\n",
       "      <td>12</td>\n",
       "      <td>11.10</td>\n",
       "      <td>-28.5500</td>\n",
       "      <td>16.4333</td>\n",
       "      <td>1643433692</td>\n",
       "    </tr>\n",
       "    <tr>\n",
       "      <th>1</th>\n",
       "      <td>chojnow</td>\n",
       "      <td>PL</td>\n",
       "      <td>36.95</td>\n",
       "      <td>80</td>\n",
       "      <td>100</td>\n",
       "      <td>13.78</td>\n",
       "      <td>51.2737</td>\n",
       "      <td>15.9366</td>\n",
       "      <td>1643433694</td>\n",
       "    </tr>\n",
       "    <tr>\n",
       "      <th>2</th>\n",
       "      <td>busselton</td>\n",
       "      <td>AU</td>\n",
       "      <td>100.04</td>\n",
       "      <td>43</td>\n",
       "      <td>95</td>\n",
       "      <td>8.46</td>\n",
       "      <td>-33.6500</td>\n",
       "      <td>115.3333</td>\n",
       "      <td>1643433695</td>\n",
       "    </tr>\n",
       "    <tr>\n",
       "      <th>3</th>\n",
       "      <td>punta arenas</td>\n",
       "      <td>CL</td>\n",
       "      <td>57.31</td>\n",
       "      <td>44</td>\n",
       "      <td>0</td>\n",
       "      <td>6.91</td>\n",
       "      <td>-53.1500</td>\n",
       "      <td>-70.9167</td>\n",
       "      <td>1643433502</td>\n",
       "    </tr>\n",
       "    <tr>\n",
       "      <th>4</th>\n",
       "      <td>vila franca do campo</td>\n",
       "      <td>PT</td>\n",
       "      <td>57.61</td>\n",
       "      <td>86</td>\n",
       "      <td>29</td>\n",
       "      <td>9.24</td>\n",
       "      <td>37.7167</td>\n",
       "      <td>-25.4333</td>\n",
       "      <td>1643433697</td>\n",
       "    </tr>\n",
       "  </tbody>\n",
       "</table>\n",
       "</div>"
      ],
      "text/plain": [
       "                   City Country  Max Temp  Humidity  Cloudiness  Wind Speed  \\\n",
       "0            oranjemund      NA     62.67        92          12       11.10   \n",
       "1               chojnow      PL     36.95        80         100       13.78   \n",
       "2             busselton      AU    100.04        43          95        8.46   \n",
       "3          punta arenas      CL     57.31        44           0        6.91   \n",
       "4  vila franca do campo      PT     57.61        86          29        9.24   \n",
       "\n",
       "   Latitude  Longitude        Date  \n",
       "0  -28.5500    16.4333  1643433692  \n",
       "1   51.2737    15.9366  1643433694  \n",
       "2  -33.6500   115.3333  1643433695  \n",
       "3  -53.1500   -70.9167  1643433502  \n",
       "4   37.7167   -25.4333  1643433697  "
      ]
     },
     "execution_count": 49,
     "metadata": {},
     "output_type": "execute_result"
    }
   ],
   "source": [
    "# Create a data frame from the raw data\n",
    "\n",
    "weather_df = pd.DataFrame({\"City\": citylist,\n",
    "                           \"Country\": country,\n",
    "                           \"Max Temp\": temp,\n",
    "                           \"Humidity\": humidity,\n",
    "                           \"Cloudiness\": clouds,\n",
    "                           \"Wind Speed\":wind_rate,\n",
    "                           \"Latitude\": lat,\n",
    "                           \"Longitude\": lon,\n",
    "                           \"Date\": date\n",
    "                          })\n",
    "\n",
    "weather_df.head()"
   ]
  },
  {
   "cell_type": "code",
   "execution_count": 52,
   "metadata": {},
   "outputs": [],
   "source": [
    "# Export the data to a .csv\n",
    "#weather_df.to_csv(r'Desktop/UPenn/WorkRepositories/python-api-challenge/output_data/cities.csv', index = False)\n"
   ]
  },
  {
   "cell_type": "code",
   "execution_count": 53,
   "metadata": {},
   "outputs": [
    {
     "data": {
      "text/html": [
       "<div>\n",
       "<style scoped>\n",
       "    .dataframe tbody tr th:only-of-type {\n",
       "        vertical-align: middle;\n",
       "    }\n",
       "\n",
       "    .dataframe tbody tr th {\n",
       "        vertical-align: top;\n",
       "    }\n",
       "\n",
       "    .dataframe thead th {\n",
       "        text-align: right;\n",
       "    }\n",
       "</style>\n",
       "<table border=\"1\" class=\"dataframe\">\n",
       "  <thead>\n",
       "    <tr style=\"text-align: right;\">\n",
       "      <th></th>\n",
       "      <th>Max Temp</th>\n",
       "      <th>Humidity</th>\n",
       "      <th>Cloudiness</th>\n",
       "      <th>Wind Speed</th>\n",
       "      <th>Latitude</th>\n",
       "      <th>Longitude</th>\n",
       "      <th>Date</th>\n",
       "    </tr>\n",
       "  </thead>\n",
       "  <tbody>\n",
       "    <tr>\n",
       "      <th>count</th>\n",
       "      <td>541.000000</td>\n",
       "      <td>541.000000</td>\n",
       "      <td>541.000000</td>\n",
       "      <td>541.000000</td>\n",
       "      <td>541.000000</td>\n",
       "      <td>541.000000</td>\n",
       "      <td>5.410000e+02</td>\n",
       "    </tr>\n",
       "    <tr>\n",
       "      <th>mean</th>\n",
       "      <td>50.254898</td>\n",
       "      <td>72.670980</td>\n",
       "      <td>59.066543</td>\n",
       "      <td>8.033623</td>\n",
       "      <td>19.637946</td>\n",
       "      <td>16.458549</td>\n",
       "      <td>1.643434e+09</td>\n",
       "    </tr>\n",
       "    <tr>\n",
       "      <th>std</th>\n",
       "      <td>29.619483</td>\n",
       "      <td>20.249986</td>\n",
       "      <td>40.609696</td>\n",
       "      <td>6.131047</td>\n",
       "      <td>33.830061</td>\n",
       "      <td>90.188310</td>\n",
       "      <td>2.446049e+02</td>\n",
       "    </tr>\n",
       "    <tr>\n",
       "      <th>min</th>\n",
       "      <td>-29.420000</td>\n",
       "      <td>12.000000</td>\n",
       "      <td>0.000000</td>\n",
       "      <td>0.000000</td>\n",
       "      <td>-54.800000</td>\n",
       "      <td>-175.200000</td>\n",
       "      <td>1.643433e+09</td>\n",
       "    </tr>\n",
       "    <tr>\n",
       "      <th>25%</th>\n",
       "      <td>28.990000</td>\n",
       "      <td>63.000000</td>\n",
       "      <td>15.000000</td>\n",
       "      <td>3.440000</td>\n",
       "      <td>-8.164200</td>\n",
       "      <td>-61.383300</td>\n",
       "      <td>1.643434e+09</td>\n",
       "    </tr>\n",
       "    <tr>\n",
       "      <th>50%</th>\n",
       "      <td>59.630000</td>\n",
       "      <td>76.000000</td>\n",
       "      <td>75.000000</td>\n",
       "      <td>6.490000</td>\n",
       "      <td>22.566700</td>\n",
       "      <td>18.423200</td>\n",
       "      <td>1.643434e+09</td>\n",
       "    </tr>\n",
       "    <tr>\n",
       "      <th>75%</th>\n",
       "      <td>73.470000</td>\n",
       "      <td>89.000000</td>\n",
       "      <td>100.000000</td>\n",
       "      <td>11.500000</td>\n",
       "      <td>47.382100</td>\n",
       "      <td>90.500000</td>\n",
       "      <td>1.643434e+09</td>\n",
       "    </tr>\n",
       "    <tr>\n",
       "      <th>max</th>\n",
       "      <td>102.610000</td>\n",
       "      <td>100.000000</td>\n",
       "      <td>100.000000</td>\n",
       "      <td>39.120000</td>\n",
       "      <td>78.218600</td>\n",
       "      <td>179.316700</td>\n",
       "      <td>1.643434e+09</td>\n",
       "    </tr>\n",
       "  </tbody>\n",
       "</table>\n",
       "</div>"
      ],
      "text/plain": [
       "         Max Temp    Humidity  Cloudiness  Wind Speed    Latitude   Longitude  \\\n",
       "count  541.000000  541.000000  541.000000  541.000000  541.000000  541.000000   \n",
       "mean    50.254898   72.670980   59.066543    8.033623   19.637946   16.458549   \n",
       "std     29.619483   20.249986   40.609696    6.131047   33.830061   90.188310   \n",
       "min    -29.420000   12.000000    0.000000    0.000000  -54.800000 -175.200000   \n",
       "25%     28.990000   63.000000   15.000000    3.440000   -8.164200  -61.383300   \n",
       "50%     59.630000   76.000000   75.000000    6.490000   22.566700   18.423200   \n",
       "75%     73.470000   89.000000  100.000000   11.500000   47.382100   90.500000   \n",
       "max    102.610000  100.000000  100.000000   39.120000   78.218600  179.316700   \n",
       "\n",
       "               Date  \n",
       "count  5.410000e+02  \n",
       "mean   1.643434e+09  \n",
       "std    2.446049e+02  \n",
       "min    1.643433e+09  \n",
       "25%    1.643434e+09  \n",
       "50%    1.643434e+09  \n",
       "75%    1.643434e+09  \n",
       "max    1.643434e+09  "
      ]
     },
     "execution_count": 53,
     "metadata": {},
     "output_type": "execute_result"
    }
   ],
   "source": [
    "# Check to see if any of the cities has higher than 100% humidity\n",
    "weather_df.describe()\n"
   ]
  },
  {
   "cell_type": "markdown",
   "metadata": {},
   "source": [
    "## Inspect the data and remove the cities where the humidity > 100%.\n",
    "----\n",
    "Skip this step if there are no cities that have humidity > 100%. "
   ]
  },
  {
   "cell_type": "markdown",
   "metadata": {},
   "source": [
    "## Plotting the Data\n",
    "* Use proper labeling of the plots using plot titles (including date of analysis) and axes labels.\n",
    "* Save the plotted figures as .pngs."
   ]
  },
  {
   "cell_type": "markdown",
   "metadata": {},
   "source": [
    "## Latitude vs. Temperature Plot"
   ]
  },
  {
   "cell_type": "code",
   "execution_count": 54,
   "metadata": {
    "scrolled": true
   },
   "outputs": [
    {
     "data": {
      "image/png": "[encoded data removed]",
      "text/plain": [
       "<Figure size 432x288 with 1 Axes>"
      ]
     },
     "metadata": {
      "needs_background": "light"
     },
     "output_type": "display_data"
    }
   ],
   "source": [
    "# Build a scatter plot for latitude vs. temperature \n",
    "plt.scatter(weather_df['Latitude'], weather_df['Max Temp'], marker=\"o\")\n",
    "\n",
    "# Label axes and title and format time\n",
    "plt.title(\"City Latitude vs. Max Temperature (%s)\" % time.strftime(\"%x\"))\n",
    "plt.ylabel(\"Max Temperature (F)\")\n",
    "plt.xlabel(\"Latitude\")\n",
    "plt.grid(True)\n",
    "\n",
    "# Save the figure\n",
    "plt.savefig(\"spltlatvstemp.png\")\n",
    "\n",
    "# Show plot\n",
    "plt.show()"
   ]
  },
  {
   "cell_type": "markdown",
   "metadata": {},
   "source": [
    "## Latitude vs. Humidity Plot"
   ]
  },
  {
   "cell_type": "code",
   "execution_count": 55,
   "metadata": {},
   "outputs": [
    {
     "data": {
      "image/png": "[encoded data removed]",
      "text/plain": [
       "<Figure size 432x288 with 1 Axes>"
      ]
     },
     "metadata": {
      "needs_background": "light"
     },
     "output_type": "display_data"
    }
   ],
   "source": [
    "# Build a scatter plot for each data type\n",
    "plt.scatter(weather_df[\"Latitude\"], weather_df[\"Humidity\"], marker=\"o\")\n",
    "\n",
    "# Incorporate the other graph properties\n",
    "plt.title(\"City Latitude vs Humidity(%s)\" % time.strftime(\"%x\"))\n",
    "plt.ylabel(\"Humidity\")\n",
    "plt.xlabel(\"Latitude\")\n",
    "plt.grid(True)\n",
    "\n",
    "# Save the figure\n",
    "plt.savefig(\"spltlatvshumidity.png\")\n",
    "\n",
    "# Show plot\n",
    "plt.show()"
   ]
  },
  {
   "cell_type": "markdown",
   "metadata": {},
   "source": [
    "## Latitude vs. Cloudiness Plot"
   ]
  },
  {
   "cell_type": "code",
   "execution_count": 56,
   "metadata": {},
   "outputs": [
    {
     "data": {
      "image/png": "[encoded data removed]",
      "text/plain": [
       "<Figure size 432x288 with 1 Axes>"
      ]
     },
     "metadata": {
      "needs_background": "light"
     },
     "output_type": "display_data"
    }
   ],
   "source": [
    "# Build a scatter plot for each data type\n",
    "plt.scatter(weather_df[\"Latitude\"], weather_df[\"Cloudiness\"], marker=\"o\")\n",
    "\n",
    "# Incorporate the other graph properties\n",
    "plt.title(\"City Latitude vs. Cloudiness (%s)\" % time.strftime(\"%x\"))\n",
    "plt.ylabel(\"Cloudiness %\")\n",
    "plt.xlabel(\"Latitude\")\n",
    "plt.grid(True)\n",
    "\n",
    "# Save the figure\n",
    "plt.savefig(\"spltlatvsclouds.png\")\n",
    "\n",
    "# Show plot\n",
    "plt.show()"
   ]
  },
  {
   "cell_type": "markdown",
   "metadata": {},
   "source": [
    "## Latitude vs. Wind Speed Plot"
   ]
  },
  {
   "cell_type": "code",
   "execution_count": 57,
   "metadata": {},
   "outputs": [
    {
     "data": {
      "image/png": "[encoded data removed]",
      "text/plain": [
       "<Figure size 432x288 with 1 Axes>"
      ]
     },
     "metadata": {
      "needs_background": "light"
     },
     "output_type": "display_data"
    }
   ],
   "source": [
    "# Build a scatter plot for each data type\n",
    "plt.scatter(weather_df[\"Latitude\"], weather_df[\"Wind Speed\"], marker=\"o\")\n",
    "\n",
    "# Incorporate the other graph properties\n",
    "plt.title(\"City Latitude vs. Wind Speed(%s)\" % time.strftime(\"%x\"))\n",
    "plt.ylabel(\"Wind Speed (mph)\")\n",
    "plt.xlabel(\"Latitude\")\n",
    "plt.grid(True)\n",
    "\n",
    "# Save the figure\n",
    "plt.savefig(\"spltlatvswind.png\")\n",
    "\n",
    "# Show plot\n",
    "plt.show()"
   ]
  },
  {
   "cell_type": "markdown",
   "metadata": {},
   "source": [
    "## Linear Regression"
   ]
  },
  {
   "cell_type": "code",
   "execution_count": 58,
   "metadata": {},
   "outputs": [],
   "source": [
    "# Split the data into Northern (lat >==0) and Southern Hemispheres (lat < 0)\n",
    "\n",
    "northern_df = weather_df.loc[(weather_df[\"Latitude\"]>=0)]\n",
    "southern_df = weather_df.loc[(weather_df[\"Latitude\"]<0)]\n"
   ]
  },
  {
   "cell_type": "code",
   "execution_count": 59,
   "metadata": {},
   "outputs": [
    {
     "data": {
      "text/plain": [
       "City          367\n",
       "Country       367\n",
       "Max Temp      367\n",
       "Humidity      367\n",
       "Cloudiness    367\n",
       "Wind Speed    367\n",
       "Latitude      367\n",
       "Longitude     367\n",
       "Date          367\n",
       "dtype: int64"
      ]
     },
     "execution_count": 59,
     "metadata": {},
     "output_type": "execute_result"
    }
   ],
   "source": [
    "northern_df.count()"
   ]
  },
  {
   "cell_type": "code",
   "execution_count": 60,
   "metadata": {},
   "outputs": [
    {
     "data": {
      "text/plain": [
       "City          174\n",
       "Country       174\n",
       "Max Temp      174\n",
       "Humidity      174\n",
       "Cloudiness    174\n",
       "Wind Speed    174\n",
       "Latitude      174\n",
       "Longitude     174\n",
       "Date          174\n",
       "dtype: int64"
      ]
     },
     "execution_count": 60,
     "metadata": {},
     "output_type": "execute_result"
    }
   ],
   "source": [
    "southern_df.count()"
   ]
  },
  {
   "cell_type": "code",
   "execution_count": 61,
   "metadata": {},
   "outputs": [],
   "source": [
    "# Define the linear regression function along with the scatter plot for each graph\n",
    "\n",
    "def line_regr(x_values, y_values, yaxis):\n",
    "\n",
    "    (slope, intercept, rvalue, pvalue, stderr) = linregress(x_values, y_values)\n",
    "    regress_values = slope * x_values + intercept\n",
    "    line_eq = \"y = \" + str(round(slope,2)) + \"x + \" + str(round(intercept,2))\n",
    "    \n",
    "\n",
    "    # Scatter Plots    \n",
    "    plt.scatter(x_values,y_values)\n",
    "    plt.plot(x_values,regress_values, color = \"red\")\n",
    "    plt.xlabel('Latitude')\n",
    "    plt.ylabel(yaxis)\n",
    "    #plt.annotate(line_eq)\n",
    "    print(f\"The correlation coefficient is {rvalue}\")\n",
    "    print(f\"The regression equation is {line_eq}\")\n",
    "    plt.show()\n"
   ]
  },
  {
   "cell_type": "markdown",
   "metadata": {},
   "source": [
    "####  Northern Hemisphere - Max Temp vs. Latitude Linear Regression"
   ]
  },
  {
   "cell_type": "code",
   "execution_count": 62,
   "metadata": {},
   "outputs": [
    {
     "name": "stdout",
     "output_type": "stream",
     "text": [
      "The correlation coefficient is -0.8695809439239811\n",
      "The regression equation is y = -1.25x + 88.09\n"
     ]
    },
    {
     "data": {
      "image/png": "[encoded data removed]",
      "text/plain": [
       "<Figure size 432x288 with 1 Axes>"
      ]
     },
     "metadata": {
      "needs_background": "light"
     },
     "output_type": "display_data"
    },
    {
     "data": {
      "text/plain": [
       "<Figure size 432x288 with 0 Axes>"
      ]
     },
     "metadata": {},
     "output_type": "display_data"
    }
   ],
   "source": [
    "# Call regression function for Northern Hemisphere - max temp vs. latitude\n",
    "\n",
    "x_values = northern_df['Latitude']\n",
    "y_values = northern_df['Max Temp']\n",
    "line_regr(x_values,y_values,'Max Temperature (F)')\n",
    "\n",
    "plt.savefig(\"NHlatvstemp.png\")\n",
    "\n"
   ]
  },
  {
   "cell_type": "markdown",
   "metadata": {},
   "source": [
    "####  Southern Hemisphere - Max Temp vs. Latitude Linear Regression"
   ]
  },
  {
   "cell_type": "code",
   "execution_count": 63,
   "metadata": {},
   "outputs": [
    {
     "name": "stdout",
     "output_type": "stream",
     "text": [
      "The correlation coefficient is 0.28792903795880986\n",
      "The regression equation is y = 0.22x + 78.22\n"
     ]
    },
    {
     "data": {
      "image/png": "[encoded data removed]",
      "text/plain": [
       "<Figure size 432x288 with 1 Axes>"
      ]
     },
     "metadata": {
      "needs_background": "light"
     },
     "output_type": "display_data"
    },
    {
     "data": {
      "text/plain": [
       "<Figure size 432x288 with 0 Axes>"
      ]
     },
     "metadata": {},
     "output_type": "display_data"
    }
   ],
   "source": [
    "# Call regression function for Southern Hemisphere - max temp vs. latitude\n",
    "\n",
    "x_values = southern_df['Latitude']\n",
    "y_values = southern_df['Max Temp']\n",
    "line_regr(x_values,y_values,'Max Temperature (F)')\n",
    "\n",
    "plt.savefig(\"SHlatvstemp.png\")\n"
   ]
  },
  {
   "cell_type": "markdown",
   "metadata": {},
   "source": [
    "####  Northern Hemisphere - Humidity (%) vs. Latitude Linear Regression"
   ]
  },
  {
   "cell_type": "code",
   "execution_count": 64,
   "metadata": {},
   "outputs": [
    {
     "name": "stdout",
     "output_type": "stream",
     "text": [
      "The correlation coefficient is 0.4245576131481757\n",
      "The regression equation is y = 0.45x + 53.59\n"
     ]
    },
    {
     "data": {
      "image/png": "[encoded data removed]",
      "text/plain": [
       "<Figure size 432x288 with 1 Axes>"
      ]
     },
     "metadata": {
      "needs_background": "light"
     },
     "output_type": "display_data"
    },
    {
     "data": {
      "text/plain": [
       "<Figure size 432x288 with 0 Axes>"
      ]
     },
     "metadata": {},
     "output_type": "display_data"
    }
   ],
   "source": [
    "# Call regression function for Northern Hemisphere - humidity vs. latitude\n",
    "\n",
    "x_values = northern_df['Latitude']\n",
    "y_values = northern_df['Humidity']\n",
    "line_regr(x_values,y_values,'Humidity %')\n",
    "\n",
    "plt.savefig(\"NHlatvshumidity.png\")\n"
   ]
  },
  {
   "cell_type": "markdown",
   "metadata": {},
   "source": [
    "####  Southern Hemisphere - Humidity (%) vs. Latitude Linear Regression"
   ]
  },
  {
   "cell_type": "code",
   "execution_count": 65,
   "metadata": {},
   "outputs": [
    {
     "name": "stdout",
     "output_type": "stream",
     "text": [
      "The correlation coefficient is 0.31605988760409137\n",
      "The regression equation is y = 0.39x + 84.44\n"
     ]
    },
    {
     "data": {
      "image/png": "[encoded data removed]",
      "text/plain": [
       "<Figure size 432x288 with 1 Axes>"
      ]
     },
     "metadata": {
      "needs_background": "light"
     },
     "output_type": "display_data"
    },
    {
     "data": {
      "text/plain": [
       "<Figure size 432x288 with 0 Axes>"
      ]
     },
     "metadata": {},
     "output_type": "display_data"
    }
   ],
   "source": [
    "# Call regression function for Southern Hemisphere - humidity vs. latitude\n",
    "\n",
    "x_values = southern_df['Latitude']\n",
    "y_values = southern_df['Humidity']\n",
    "line_regr(x_values,y_values,'Humidity %')\n",
    "\n",
    "plt.savefig(\"SHlatvshumidity.png\")\n"
   ]
  },
  {
   "cell_type": "markdown",
   "metadata": {},
   "source": [
    "####  Northern Hemisphere - Cloudiness (%) vs. Latitude Linear Regression"
   ]
  },
  {
   "cell_type": "code",
   "execution_count": 66,
   "metadata": {},
   "outputs": [
    {
     "name": "stdout",
     "output_type": "stream",
     "text": [
      "The correlation coefficient is 0.3526351303668092\n",
      "The regression equation is y = 0.71x + 29.0\n"
     ]
    },
    {
     "data": {
      "image/png": "[encoded data removed]",
      "text/plain": [
       "<Figure size 432x288 with 1 Axes>"
      ]
     },
     "metadata": {
      "needs_background": "light"
     },
     "output_type": "display_data"
    },
    {
     "data": {
      "text/plain": [
       "<Figure size 432x288 with 0 Axes>"
      ]
     },
     "metadata": {},
     "output_type": "display_data"
    }
   ],
   "source": [
    "# Call regression function for Northern Hemisphere - cloudiness vs. latitude\n",
    "\n",
    "x_values = northern_df['Latitude']\n",
    "y_values = northern_df['Cloudiness']\n",
    "line_regr(x_values,y_values,'Cloudiness')\n",
    "\n",
    "plt.savefig(\"NHlatvsclouds.png\")\n"
   ]
  },
  {
   "cell_type": "markdown",
   "metadata": {},
   "source": [
    "####  Southern Hemisphere - Cloudiness (%) vs. Latitude Linear Regression"
   ]
  },
  {
   "cell_type": "code",
   "execution_count": 67,
   "metadata": {},
   "outputs": [
    {
     "name": "stdout",
     "output_type": "stream",
     "text": [
      "The correlation coefficient is 0.4033790273626804\n",
      "The regression equation is y = 1.17x + 89.13\n"
     ]
    },
    {
     "data": {
      "image/png": "[encoded data removed]",
      "text/plain": [
       "<Figure size 432x288 with 1 Axes>"
      ]
     },
     "metadata": {
      "needs_background": "light"
     },
     "output_type": "display_data"
    },
    {
     "data": {
      "text/plain": [
       "<Figure size 432x288 with 0 Axes>"
      ]
     },
     "metadata": {},
     "output_type": "display_data"
    }
   ],
   "source": [
    "# Call regression function for Southern Hemisphere - cloudiness vs. latitude\n",
    "\n",
    "x_values = southern_df['Latitude']\n",
    "y_values = southern_df['Cloudiness']\n",
    "line_regr(x_values,y_values,'Cloudiness')\n",
    "\n",
    "plt.savefig(\"SHlatvsclouds.png\")\n"
   ]
  },
  {
   "cell_type": "markdown",
   "metadata": {},
   "source": [
    "####  Northern Hemisphere - Wind Speed (mph) vs. Latitude Linear Regression"
   ]
  },
  {
   "cell_type": "code",
   "execution_count": 68,
   "metadata": {},
   "outputs": [
    {
     "name": "stdout",
     "output_type": "stream",
     "text": [
      "The correlation coefficient is 0.1887920817653383\n",
      "The regression equation is y = 0.06x + 6.09\n"
     ]
    },
    {
     "data": {
      "image/png": "[encoded data removed]",
      "text/plain": [
       "<Figure size 432x288 with 1 Axes>"
      ]
     },
     "metadata": {
      "needs_background": "light"
     },
     "output_type": "display_data"
    },
    {
     "data": {
      "text/plain": [
       "<Figure size 432x288 with 0 Axes>"
      ]
     },
     "metadata": {},
     "output_type": "display_data"
    }
   ],
   "source": [
    "# Call regression function for Northern Hemisphere - wind speed vs. latitude\n",
    "\n",
    "x_values = northern_df['Latitude']\n",
    "y_values = northern_df['Wind Speed']\n",
    "line_regr(x_values,y_values,'Wind Speed')\n",
    "\n",
    "plt.savefig(\"NHlatvswind.png\")\n"
   ]
  },
  {
   "cell_type": "markdown",
   "metadata": {},
   "source": [
    "####  Southern Hemisphere - Wind Speed (mph) vs. Latitude Linear Regression"
   ]
  },
  {
   "cell_type": "code",
   "execution_count": 69,
   "metadata": {},
   "outputs": [
    {
     "name": "stdout",
     "output_type": "stream",
     "text": [
      "The correlation coefficient is -0.1212845306743056\n",
      "The regression equation is y = -0.05x + 6.2\n"
     ]
    },
    {
     "data": {
      "image/png": "[encoded data removed]",
      "text/plain": [
       "<Figure size 432x288 with 1 Axes>"
      ]
     },
     "metadata": {
      "needs_background": "light"
     },
     "output_type": "display_data"
    },
    {
     "data": {
      "text/plain": [
       "<Figure size 432x288 with 0 Axes>"
      ]
     },
     "metadata": {},
     "output_type": "display_data"
    }
   ],
   "source": [
    "# Call regression function for Southern Hemisphere - wind speed vs. latitude\n",
    "\n",
    "x_values = southern_df['Latitude']\n",
    "y_values = southern_df['Wind Speed']\n",
    "line_regr(x_values,y_values,'Wind Speed')\n",
    "\n",
    "plt.savefig(\"SHlatvswind.png\")\n"
   ]
  },
  {
   "cell_type": "code",
   "execution_count": null,
   "metadata": {},
   "outputs": [],
   "source": []
  }
 ],
 "metadata": {
  "anaconda-cloud": {},
  "kernel_info": {
   "name": "python3"
  },
  "kernelspec": {
   "display_name": "Python 3 (ipykernel)",
   "language": "python",
   "name": "python3"
  },
  "language_info": {
   "codemirror_mode": {
    "name": "ipython",
    "version": 3
   },
   "file_extension": ".py",
   "mimetype": "text/x-python",
   "name": "python",
   "nbconvert_exporter": "python",
   "pygments_lexer": "ipython3",
   "version": "3.9.7"
  },
  "latex_envs": {
   "LaTeX_envs_menu_present": true,
   "autoclose": false,
   "autocomplete": true,
   "bibliofile": "biblio.bib",
   "cite_by": "apalike",
   "current_citInitial": 1,
   "eqLabelWithNumbers": true,
   "eqNumInitial": 1,
   "hotkeys": {
    "equation": "Ctrl-E",
    "itemize": "Ctrl-I"
   },
   "labels_anchors": false,
   "latex_user_defs": false,
   "report_style_numbering": false,
   "user_envs_cfg": false
  },
  "nteract": {
   "version": "0.12.3"
  }
 },
 "nbformat": 4,
 "nbformat_minor": 2
}
